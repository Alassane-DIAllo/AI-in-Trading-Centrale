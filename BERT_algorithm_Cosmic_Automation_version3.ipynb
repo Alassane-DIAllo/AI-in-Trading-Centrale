{
  "nbformat": 4,
  "nbformat_minor": 0,
  "metadata": {
    "accelerator": "TPU",
    "colab": {
      "name": "BERT-algorithm-Cosmic_Automation_version2.ipynb",
      "provenance": [],
      "collapsed_sections": [],
      "authorship_tag": "ABX9TyP1PNYlDrNaLCXDvw+XP7DE",
      "include_colab_link": true
    },
    "kernelspec": {
      "display_name": "Python 3",
      "name": "python3"
    },
    "language_info": {
      "name": "python"
    },
    "widgets": {
      "application/vnd.jupyter.widget-state+json": {
        "796db8df9d9b4caba69429322e0501df": {
          "model_module": "@jupyter-widgets/controls",
          "model_name": "HBoxModel",
          "model_module_version": "1.5.0",
          "state": {
            "_view_name": "HBoxView",
            "_dom_classes": [],
            "_model_name": "HBoxModel",
            "_view_module": "@jupyter-widgets/controls",
            "_model_module_version": "1.5.0",
            "_view_count": null,
            "_view_module_version": "1.5.0",
            "box_style": "",
            "layout": "IPY_MODEL_7c7d2771ec0e4072a2a916f5592aec65",
            "_model_module": "@jupyter-widgets/controls",
            "children": [
              "IPY_MODEL_98a7f6129c504dd4bbf0fd4846171af2",
              "IPY_MODEL_3f3d7922c429433e9dff690e3ff3ed7c",
              "IPY_MODEL_fa6032b0ef064e88b5de35ff88939005"
            ]
          }
        },
        "7c7d2771ec0e4072a2a916f5592aec65": {
          "model_module": "@jupyter-widgets/base",
          "model_name": "LayoutModel",
          "model_module_version": "1.2.0",
          "state": {
            "_view_name": "LayoutView",
            "grid_template_rows": null,
            "right": null,
            "justify_content": null,
            "_view_module": "@jupyter-widgets/base",
            "overflow": null,
            "_model_module_version": "1.2.0",
            "_view_count": null,
            "flex_flow": null,
            "width": null,
            "min_width": null,
            "border": null,
            "align_items": null,
            "bottom": null,
            "_model_module": "@jupyter-widgets/base",
            "top": null,
            "grid_column": null,
            "overflow_y": null,
            "overflow_x": null,
            "grid_auto_flow": null,
            "grid_area": null,
            "grid_template_columns": null,
            "flex": null,
            "_model_name": "LayoutModel",
            "justify_items": null,
            "grid_row": null,
            "max_height": null,
            "align_content": null,
            "visibility": null,
            "align_self": null,
            "height": null,
            "min_height": null,
            "padding": null,
            "grid_auto_rows": null,
            "grid_gap": null,
            "max_width": null,
            "order": null,
            "_view_module_version": "1.2.0",
            "grid_template_areas": null,
            "object_position": null,
            "object_fit": null,
            "grid_auto_columns": null,
            "margin": null,
            "display": null,
            "left": null
          }
        },
        "98a7f6129c504dd4bbf0fd4846171af2": {
          "model_module": "@jupyter-widgets/controls",
          "model_name": "HTMLModel",
          "model_module_version": "1.5.0",
          "state": {
            "_view_name": "HTMLView",
            "style": "IPY_MODEL_f8383ac2ac694adb9138a939d3f19f97",
            "_dom_classes": [],
            "description": "",
            "_model_name": "HTMLModel",
            "placeholder": "​",
            "_view_module": "@jupyter-widgets/controls",
            "_model_module_version": "1.5.0",
            "value": "Downloading: 100%",
            "_view_count": null,
            "_view_module_version": "1.5.0",
            "description_tooltip": null,
            "_model_module": "@jupyter-widgets/controls",
            "layout": "IPY_MODEL_28d57932ea3c43768498d5cf79efbddb"
          }
        },
        "3f3d7922c429433e9dff690e3ff3ed7c": {
          "model_module": "@jupyter-widgets/controls",
          "model_name": "FloatProgressModel",
          "model_module_version": "1.5.0",
          "state": {
            "_view_name": "ProgressView",
            "style": "IPY_MODEL_725e51c827cb4ab5818ea96c7eb753ce",
            "_dom_classes": [],
            "description": "",
            "_model_name": "FloatProgressModel",
            "bar_style": "success",
            "max": 213450,
            "_view_module": "@jupyter-widgets/controls",
            "_model_module_version": "1.5.0",
            "value": 213450,
            "_view_count": null,
            "_view_module_version": "1.5.0",
            "orientation": "horizontal",
            "min": 0,
            "description_tooltip": null,
            "_model_module": "@jupyter-widgets/controls",
            "layout": "IPY_MODEL_ccd85f9584514da495da9191a276e4fa"
          }
        },
        "fa6032b0ef064e88b5de35ff88939005": {
          "model_module": "@jupyter-widgets/controls",
          "model_name": "HTMLModel",
          "model_module_version": "1.5.0",
          "state": {
            "_view_name": "HTMLView",
            "style": "IPY_MODEL_fa7671c765174eec83dfec54eb55b093",
            "_dom_classes": [],
            "description": "",
            "_model_name": "HTMLModel",
            "placeholder": "​",
            "_view_module": "@jupyter-widgets/controls",
            "_model_module_version": "1.5.0",
            "value": " 213k/213k [00:00&lt;00:00, 1.46MB/s]",
            "_view_count": null,
            "_view_module_version": "1.5.0",
            "description_tooltip": null,
            "_model_module": "@jupyter-widgets/controls",
            "layout": "IPY_MODEL_2b1b1dcd9c194d0c91a044ea786bf664"
          }
        },
        "f8383ac2ac694adb9138a939d3f19f97": {
          "model_module": "@jupyter-widgets/controls",
          "model_name": "DescriptionStyleModel",
          "model_module_version": "1.5.0",
          "state": {
            "_view_name": "StyleView",
            "_model_name": "DescriptionStyleModel",
            "description_width": "",
            "_view_module": "@jupyter-widgets/base",
            "_model_module_version": "1.5.0",
            "_view_count": null,
            "_view_module_version": "1.2.0",
            "_model_module": "@jupyter-widgets/controls"
          }
        },
        "28d57932ea3c43768498d5cf79efbddb": {
          "model_module": "@jupyter-widgets/base",
          "model_name": "LayoutModel",
          "model_module_version": "1.2.0",
          "state": {
            "_view_name": "LayoutView",
            "grid_template_rows": null,
            "right": null,
            "justify_content": null,
            "_view_module": "@jupyter-widgets/base",
            "overflow": null,
            "_model_module_version": "1.2.0",
            "_view_count": null,
            "flex_flow": null,
            "width": null,
            "min_width": null,
            "border": null,
            "align_items": null,
            "bottom": null,
            "_model_module": "@jupyter-widgets/base",
            "top": null,
            "grid_column": null,
            "overflow_y": null,
            "overflow_x": null,
            "grid_auto_flow": null,
            "grid_area": null,
            "grid_template_columns": null,
            "flex": null,
            "_model_name": "LayoutModel",
            "justify_items": null,
            "grid_row": null,
            "max_height": null,
            "align_content": null,
            "visibility": null,
            "align_self": null,
            "height": null,
            "min_height": null,
            "padding": null,
            "grid_auto_rows": null,
            "grid_gap": null,
            "max_width": null,
            "order": null,
            "_view_module_version": "1.2.0",
            "grid_template_areas": null,
            "object_position": null,
            "object_fit": null,
            "grid_auto_columns": null,
            "margin": null,
            "display": null,
            "left": null
          }
        },
        "725e51c827cb4ab5818ea96c7eb753ce": {
          "model_module": "@jupyter-widgets/controls",
          "model_name": "ProgressStyleModel",
          "model_module_version": "1.5.0",
          "state": {
            "_view_name": "StyleView",
            "_model_name": "ProgressStyleModel",
            "description_width": "",
            "_view_module": "@jupyter-widgets/base",
            "_model_module_version": "1.5.0",
            "_view_count": null,
            "_view_module_version": "1.2.0",
            "bar_color": null,
            "_model_module": "@jupyter-widgets/controls"
          }
        },
        "ccd85f9584514da495da9191a276e4fa": {
          "model_module": "@jupyter-widgets/base",
          "model_name": "LayoutModel",
          "model_module_version": "1.2.0",
          "state": {
            "_view_name": "LayoutView",
            "grid_template_rows": null,
            "right": null,
            "justify_content": null,
            "_view_module": "@jupyter-widgets/base",
            "overflow": null,
            "_model_module_version": "1.2.0",
            "_view_count": null,
            "flex_flow": null,
            "width": null,
            "min_width": null,
            "border": null,
            "align_items": null,
            "bottom": null,
            "_model_module": "@jupyter-widgets/base",
            "top": null,
            "grid_column": null,
            "overflow_y": null,
            "overflow_x": null,
            "grid_auto_flow": null,
            "grid_area": null,
            "grid_template_columns": null,
            "flex": null,
            "_model_name": "LayoutModel",
            "justify_items": null,
            "grid_row": null,
            "max_height": null,
            "align_content": null,
            "visibility": null,
            "align_self": null,
            "height": null,
            "min_height": null,
            "padding": null,
            "grid_auto_rows": null,
            "grid_gap": null,
            "max_width": null,
            "order": null,
            "_view_module_version": "1.2.0",
            "grid_template_areas": null,
            "object_position": null,
            "object_fit": null,
            "grid_auto_columns": null,
            "margin": null,
            "display": null,
            "left": null
          }
        },
        "fa7671c765174eec83dfec54eb55b093": {
          "model_module": "@jupyter-widgets/controls",
          "model_name": "DescriptionStyleModel",
          "model_module_version": "1.5.0",
          "state": {
            "_view_name": "StyleView",
            "_model_name": "DescriptionStyleModel",
            "description_width": "",
            "_view_module": "@jupyter-widgets/base",
            "_model_module_version": "1.5.0",
            "_view_count": null,
            "_view_module_version": "1.2.0",
            "_model_module": "@jupyter-widgets/controls"
          }
        },
        "2b1b1dcd9c194d0c91a044ea786bf664": {
          "model_module": "@jupyter-widgets/base",
          "model_name": "LayoutModel",
          "model_module_version": "1.2.0",
          "state": {
            "_view_name": "LayoutView",
            "grid_template_rows": null,
            "right": null,
            "justify_content": null,
            "_view_module": "@jupyter-widgets/base",
            "overflow": null,
            "_model_module_version": "1.2.0",
            "_view_count": null,
            "flex_flow": null,
            "width": null,
            "min_width": null,
            "border": null,
            "align_items": null,
            "bottom": null,
            "_model_module": "@jupyter-widgets/base",
            "top": null,
            "grid_column": null,
            "overflow_y": null,
            "overflow_x": null,
            "grid_auto_flow": null,
            "grid_area": null,
            "grid_template_columns": null,
            "flex": null,
            "_model_name": "LayoutModel",
            "justify_items": null,
            "grid_row": null,
            "max_height": null,
            "align_content": null,
            "visibility": null,
            "align_self": null,
            "height": null,
            "min_height": null,
            "padding": null,
            "grid_auto_rows": null,
            "grid_gap": null,
            "max_width": null,
            "order": null,
            "_view_module_version": "1.2.0",
            "grid_template_areas": null,
            "object_position": null,
            "object_fit": null,
            "grid_auto_columns": null,
            "margin": null,
            "display": null,
            "left": null
          }
        },
        "8939f9c5259848da84beb55e064e6e5c": {
          "model_module": "@jupyter-widgets/controls",
          "model_name": "HBoxModel",
          "model_module_version": "1.5.0",
          "state": {
            "_view_name": "HBoxView",
            "_dom_classes": [],
            "_model_name": "HBoxModel",
            "_view_module": "@jupyter-widgets/controls",
            "_model_module_version": "1.5.0",
            "_view_count": null,
            "_view_module_version": "1.5.0",
            "box_style": "",
            "layout": "IPY_MODEL_fa5685dfe3f44380b44bbe124e284486",
            "_model_module": "@jupyter-widgets/controls",
            "children": [
              "IPY_MODEL_1ede26d38c074f228485f6396257fdeb",
              "IPY_MODEL_72827ebfbf7d4ce592303c2224a21dbe",
              "IPY_MODEL_ea6b2a7ac6114922b9e652b12031fae7"
            ]
          }
        },
        "fa5685dfe3f44380b44bbe124e284486": {
          "model_module": "@jupyter-widgets/base",
          "model_name": "LayoutModel",
          "model_module_version": "1.2.0",
          "state": {
            "_view_name": "LayoutView",
            "grid_template_rows": null,
            "right": null,
            "justify_content": null,
            "_view_module": "@jupyter-widgets/base",
            "overflow": null,
            "_model_module_version": "1.2.0",
            "_view_count": null,
            "flex_flow": null,
            "width": null,
            "min_width": null,
            "border": null,
            "align_items": null,
            "bottom": null,
            "_model_module": "@jupyter-widgets/base",
            "top": null,
            "grid_column": null,
            "overflow_y": null,
            "overflow_x": null,
            "grid_auto_flow": null,
            "grid_area": null,
            "grid_template_columns": null,
            "flex": null,
            "_model_name": "LayoutModel",
            "justify_items": null,
            "grid_row": null,
            "max_height": null,
            "align_content": null,
            "visibility": null,
            "align_self": null,
            "height": null,
            "min_height": null,
            "padding": null,
            "grid_auto_rows": null,
            "grid_gap": null,
            "max_width": null,
            "order": null,
            "_view_module_version": "1.2.0",
            "grid_template_areas": null,
            "object_position": null,
            "object_fit": null,
            "grid_auto_columns": null,
            "margin": null,
            "display": null,
            "left": null
          }
        },
        "1ede26d38c074f228485f6396257fdeb": {
          "model_module": "@jupyter-widgets/controls",
          "model_name": "HTMLModel",
          "model_module_version": "1.5.0",
          "state": {
            "_view_name": "HTMLView",
            "style": "IPY_MODEL_4d17d8588bd548e3a61c698140dc3421",
            "_dom_classes": [],
            "description": "",
            "_model_name": "HTMLModel",
            "placeholder": "​",
            "_view_module": "@jupyter-widgets/controls",
            "_model_module_version": "1.5.0",
            "value": "Downloading: 100%",
            "_view_count": null,
            "_view_module_version": "1.5.0",
            "description_tooltip": null,
            "_model_module": "@jupyter-widgets/controls",
            "layout": "IPY_MODEL_d58cc94a065a4ad3bba92214d688b7ea"
          }
        },
        "72827ebfbf7d4ce592303c2224a21dbe": {
          "model_module": "@jupyter-widgets/controls",
          "model_name": "FloatProgressModel",
          "model_module_version": "1.5.0",
          "state": {
            "_view_name": "ProgressView",
            "style": "IPY_MODEL_85d2c25a19894a8ebc587370b06be710",
            "_dom_classes": [],
            "description": "",
            "_model_name": "FloatProgressModel",
            "bar_style": "success",
            "max": 570,
            "_view_module": "@jupyter-widgets/controls",
            "_model_module_version": "1.5.0",
            "value": 570,
            "_view_count": null,
            "_view_module_version": "1.5.0",
            "orientation": "horizontal",
            "min": 0,
            "description_tooltip": null,
            "_model_module": "@jupyter-widgets/controls",
            "layout": "IPY_MODEL_7f46409892194095ba78843ee3d6bc97"
          }
        },
        "ea6b2a7ac6114922b9e652b12031fae7": {
          "model_module": "@jupyter-widgets/controls",
          "model_name": "HTMLModel",
          "model_module_version": "1.5.0",
          "state": {
            "_view_name": "HTMLView",
            "style": "IPY_MODEL_983f888772bd4a06bb19486fceadd7e1",
            "_dom_classes": [],
            "description": "",
            "_model_name": "HTMLModel",
            "placeholder": "​",
            "_view_module": "@jupyter-widgets/controls",
            "_model_module_version": "1.5.0",
            "value": " 570/570 [00:00&lt;00:00, 13.3kB/s]",
            "_view_count": null,
            "_view_module_version": "1.5.0",
            "description_tooltip": null,
            "_model_module": "@jupyter-widgets/controls",
            "layout": "IPY_MODEL_4f4c2ba5393643a8ac4a29a3f5a1f55a"
          }
        },
        "4d17d8588bd548e3a61c698140dc3421": {
          "model_module": "@jupyter-widgets/controls",
          "model_name": "DescriptionStyleModel",
          "model_module_version": "1.5.0",
          "state": {
            "_view_name": "StyleView",
            "_model_name": "DescriptionStyleModel",
            "description_width": "",
            "_view_module": "@jupyter-widgets/base",
            "_model_module_version": "1.5.0",
            "_view_count": null,
            "_view_module_version": "1.2.0",
            "_model_module": "@jupyter-widgets/controls"
          }
        },
        "d58cc94a065a4ad3bba92214d688b7ea": {
          "model_module": "@jupyter-widgets/base",
          "model_name": "LayoutModel",
          "model_module_version": "1.2.0",
          "state": {
            "_view_name": "LayoutView",
            "grid_template_rows": null,
            "right": null,
            "justify_content": null,
            "_view_module": "@jupyter-widgets/base",
            "overflow": null,
            "_model_module_version": "1.2.0",
            "_view_count": null,
            "flex_flow": null,
            "width": null,
            "min_width": null,
            "border": null,
            "align_items": null,
            "bottom": null,
            "_model_module": "@jupyter-widgets/base",
            "top": null,
            "grid_column": null,
            "overflow_y": null,
            "overflow_x": null,
            "grid_auto_flow": null,
            "grid_area": null,
            "grid_template_columns": null,
            "flex": null,
            "_model_name": "LayoutModel",
            "justify_items": null,
            "grid_row": null,
            "max_height": null,
            "align_content": null,
            "visibility": null,
            "align_self": null,
            "height": null,
            "min_height": null,
            "padding": null,
            "grid_auto_rows": null,
            "grid_gap": null,
            "max_width": null,
            "order": null,
            "_view_module_version": "1.2.0",
            "grid_template_areas": null,
            "object_position": null,
            "object_fit": null,
            "grid_auto_columns": null,
            "margin": null,
            "display": null,
            "left": null
          }
        },
        "85d2c25a19894a8ebc587370b06be710": {
          "model_module": "@jupyter-widgets/controls",
          "model_name": "ProgressStyleModel",
          "model_module_version": "1.5.0",
          "state": {
            "_view_name": "StyleView",
            "_model_name": "ProgressStyleModel",
            "description_width": "",
            "_view_module": "@jupyter-widgets/base",
            "_model_module_version": "1.5.0",
            "_view_count": null,
            "_view_module_version": "1.2.0",
            "bar_color": null,
            "_model_module": "@jupyter-widgets/controls"
          }
        },
        "7f46409892194095ba78843ee3d6bc97": {
          "model_module": "@jupyter-widgets/base",
          "model_name": "LayoutModel",
          "model_module_version": "1.2.0",
          "state": {
            "_view_name": "LayoutView",
            "grid_template_rows": null,
            "right": null,
            "justify_content": null,
            "_view_module": "@jupyter-widgets/base",
            "overflow": null,
            "_model_module_version": "1.2.0",
            "_view_count": null,
            "flex_flow": null,
            "width": null,
            "min_width": null,
            "border": null,
            "align_items": null,
            "bottom": null,
            "_model_module": "@jupyter-widgets/base",
            "top": null,
            "grid_column": null,
            "overflow_y": null,
            "overflow_x": null,
            "grid_auto_flow": null,
            "grid_area": null,
            "grid_template_columns": null,
            "flex": null,
            "_model_name": "LayoutModel",
            "justify_items": null,
            "grid_row": null,
            "max_height": null,
            "align_content": null,
            "visibility": null,
            "align_self": null,
            "height": null,
            "min_height": null,
            "padding": null,
            "grid_auto_rows": null,
            "grid_gap": null,
            "max_width": null,
            "order": null,
            "_view_module_version": "1.2.0",
            "grid_template_areas": null,
            "object_position": null,
            "object_fit": null,
            "grid_auto_columns": null,
            "margin": null,
            "display": null,
            "left": null
          }
        },
        "983f888772bd4a06bb19486fceadd7e1": {
          "model_module": "@jupyter-widgets/controls",
          "model_name": "DescriptionStyleModel",
          "model_module_version": "1.5.0",
          "state": {
            "_view_name": "StyleView",
            "_model_name": "DescriptionStyleModel",
            "description_width": "",
            "_view_module": "@jupyter-widgets/base",
            "_model_module_version": "1.5.0",
            "_view_count": null,
            "_view_module_version": "1.2.0",
            "_model_module": "@jupyter-widgets/controls"
          }
        },
        "4f4c2ba5393643a8ac4a29a3f5a1f55a": {
          "model_module": "@jupyter-widgets/base",
          "model_name": "LayoutModel",
          "model_module_version": "1.2.0",
          "state": {
            "_view_name": "LayoutView",
            "grid_template_rows": null,
            "right": null,
            "justify_content": null,
            "_view_module": "@jupyter-widgets/base",
            "overflow": null,
            "_model_module_version": "1.2.0",
            "_view_count": null,
            "flex_flow": null,
            "width": null,
            "min_width": null,
            "border": null,
            "align_items": null,
            "bottom": null,
            "_model_module": "@jupyter-widgets/base",
            "top": null,
            "grid_column": null,
            "overflow_y": null,
            "overflow_x": null,
            "grid_auto_flow": null,
            "grid_area": null,
            "grid_template_columns": null,
            "flex": null,
            "_model_name": "LayoutModel",
            "justify_items": null,
            "grid_row": null,
            "max_height": null,
            "align_content": null,
            "visibility": null,
            "align_self": null,
            "height": null,
            "min_height": null,
            "padding": null,
            "grid_auto_rows": null,
            "grid_gap": null,
            "max_width": null,
            "order": null,
            "_view_module_version": "1.2.0",
            "grid_template_areas": null,
            "object_position": null,
            "object_fit": null,
            "grid_auto_columns": null,
            "margin": null,
            "display": null,
            "left": null
          }
        },
        "4fd258409dc244e99fe911b3a32ce463": {
          "model_module": "@jupyter-widgets/controls",
          "model_name": "HBoxModel",
          "model_module_version": "1.5.0",
          "state": {
            "_view_name": "HBoxView",
            "_dom_classes": [],
            "_model_name": "HBoxModel",
            "_view_module": "@jupyter-widgets/controls",
            "_model_module_version": "1.5.0",
            "_view_count": null,
            "_view_module_version": "1.5.0",
            "box_style": "",
            "layout": "IPY_MODEL_b926956dfa744e4e9a2f235a9d61eb95",
            "_model_module": "@jupyter-widgets/controls",
            "children": [
              "IPY_MODEL_80f4981ac26f47d3ac41583124710943",
              "IPY_MODEL_2caf3a801d2d401491a556a70979ea1f",
              "IPY_MODEL_4f0c52d2d0314cf390640572615e3a78"
            ]
          }
        },
        "b926956dfa744e4e9a2f235a9d61eb95": {
          "model_module": "@jupyter-widgets/base",
          "model_name": "LayoutModel",
          "model_module_version": "1.2.0",
          "state": {
            "_view_name": "LayoutView",
            "grid_template_rows": null,
            "right": null,
            "justify_content": null,
            "_view_module": "@jupyter-widgets/base",
            "overflow": null,
            "_model_module_version": "1.2.0",
            "_view_count": null,
            "flex_flow": null,
            "width": null,
            "min_width": null,
            "border": null,
            "align_items": null,
            "bottom": null,
            "_model_module": "@jupyter-widgets/base",
            "top": null,
            "grid_column": null,
            "overflow_y": null,
            "overflow_x": null,
            "grid_auto_flow": null,
            "grid_area": null,
            "grid_template_columns": null,
            "flex": null,
            "_model_name": "LayoutModel",
            "justify_items": null,
            "grid_row": null,
            "max_height": null,
            "align_content": null,
            "visibility": null,
            "align_self": null,
            "height": null,
            "min_height": null,
            "padding": null,
            "grid_auto_rows": null,
            "grid_gap": null,
            "max_width": null,
            "order": null,
            "_view_module_version": "1.2.0",
            "grid_template_areas": null,
            "object_position": null,
            "object_fit": null,
            "grid_auto_columns": null,
            "margin": null,
            "display": null,
            "left": null
          }
        },
        "80f4981ac26f47d3ac41583124710943": {
          "model_module": "@jupyter-widgets/controls",
          "model_name": "HTMLModel",
          "model_module_version": "1.5.0",
          "state": {
            "_view_name": "HTMLView",
            "style": "IPY_MODEL_1df1eaa4c608418fa1d280bb61fd3ee0",
            "_dom_classes": [],
            "description": "",
            "_model_name": "HTMLModel",
            "placeholder": "​",
            "_view_module": "@jupyter-widgets/controls",
            "_model_module_version": "1.5.0",
            "value": "Downloading: 100%",
            "_view_count": null,
            "_view_module_version": "1.5.0",
            "description_tooltip": null,
            "_model_module": "@jupyter-widgets/controls",
            "layout": "IPY_MODEL_691de294c0b9487790589cb28a0ba1d1"
          }
        },
        "2caf3a801d2d401491a556a70979ea1f": {
          "model_module": "@jupyter-widgets/controls",
          "model_name": "FloatProgressModel",
          "model_module_version": "1.5.0",
          "state": {
            "_view_name": "ProgressView",
            "style": "IPY_MODEL_f3c0e0d633144cbdaecad1bd72934390",
            "_dom_classes": [],
            "description": "",
            "_model_name": "FloatProgressModel",
            "bar_style": "success",
            "max": 435779157,
            "_view_module": "@jupyter-widgets/controls",
            "_model_module_version": "1.5.0",
            "value": 435779157,
            "_view_count": null,
            "_view_module_version": "1.5.0",
            "orientation": "horizontal",
            "min": 0,
            "description_tooltip": null,
            "_model_module": "@jupyter-widgets/controls",
            "layout": "IPY_MODEL_bcc69025d5804810b47ceb806ea7d513"
          }
        },
        "4f0c52d2d0314cf390640572615e3a78": {
          "model_module": "@jupyter-widgets/controls",
          "model_name": "HTMLModel",
          "model_module_version": "1.5.0",
          "state": {
            "_view_name": "HTMLView",
            "style": "IPY_MODEL_2fd53fce8062444cbfff5da73293639e",
            "_dom_classes": [],
            "description": "",
            "_model_name": "HTMLModel",
            "placeholder": "​",
            "_view_module": "@jupyter-widgets/controls",
            "_model_module_version": "1.5.0",
            "value": " 436M/436M [00:12&lt;00:00, 37.0MB/s]",
            "_view_count": null,
            "_view_module_version": "1.5.0",
            "description_tooltip": null,
            "_model_module": "@jupyter-widgets/controls",
            "layout": "IPY_MODEL_c84575afb0f049c88fd3c1d0817d2a02"
          }
        },
        "1df1eaa4c608418fa1d280bb61fd3ee0": {
          "model_module": "@jupyter-widgets/controls",
          "model_name": "DescriptionStyleModel",
          "model_module_version": "1.5.0",
          "state": {
            "_view_name": "StyleView",
            "_model_name": "DescriptionStyleModel",
            "description_width": "",
            "_view_module": "@jupyter-widgets/base",
            "_model_module_version": "1.5.0",
            "_view_count": null,
            "_view_module_version": "1.2.0",
            "_model_module": "@jupyter-widgets/controls"
          }
        },
        "691de294c0b9487790589cb28a0ba1d1": {
          "model_module": "@jupyter-widgets/base",
          "model_name": "LayoutModel",
          "model_module_version": "1.2.0",
          "state": {
            "_view_name": "LayoutView",
            "grid_template_rows": null,
            "right": null,
            "justify_content": null,
            "_view_module": "@jupyter-widgets/base",
            "overflow": null,
            "_model_module_version": "1.2.0",
            "_view_count": null,
            "flex_flow": null,
            "width": null,
            "min_width": null,
            "border": null,
            "align_items": null,
            "bottom": null,
            "_model_module": "@jupyter-widgets/base",
            "top": null,
            "grid_column": null,
            "overflow_y": null,
            "overflow_x": null,
            "grid_auto_flow": null,
            "grid_area": null,
            "grid_template_columns": null,
            "flex": null,
            "_model_name": "LayoutModel",
            "justify_items": null,
            "grid_row": null,
            "max_height": null,
            "align_content": null,
            "visibility": null,
            "align_self": null,
            "height": null,
            "min_height": null,
            "padding": null,
            "grid_auto_rows": null,
            "grid_gap": null,
            "max_width": null,
            "order": null,
            "_view_module_version": "1.2.0",
            "grid_template_areas": null,
            "object_position": null,
            "object_fit": null,
            "grid_auto_columns": null,
            "margin": null,
            "display": null,
            "left": null
          }
        },
        "f3c0e0d633144cbdaecad1bd72934390": {
          "model_module": "@jupyter-widgets/controls",
          "model_name": "ProgressStyleModel",
          "model_module_version": "1.5.0",
          "state": {
            "_view_name": "StyleView",
            "_model_name": "ProgressStyleModel",
            "description_width": "",
            "_view_module": "@jupyter-widgets/base",
            "_model_module_version": "1.5.0",
            "_view_count": null,
            "_view_module_version": "1.2.0",
            "bar_color": null,
            "_model_module": "@jupyter-widgets/controls"
          }
        },
        "bcc69025d5804810b47ceb806ea7d513": {
          "model_module": "@jupyter-widgets/base",
          "model_name": "LayoutModel",
          "model_module_version": "1.2.0",
          "state": {
            "_view_name": "LayoutView",
            "grid_template_rows": null,
            "right": null,
            "justify_content": null,
            "_view_module": "@jupyter-widgets/base",
            "overflow": null,
            "_model_module_version": "1.2.0",
            "_view_count": null,
            "flex_flow": null,
            "width": null,
            "min_width": null,
            "border": null,
            "align_items": null,
            "bottom": null,
            "_model_module": "@jupyter-widgets/base",
            "top": null,
            "grid_column": null,
            "overflow_y": null,
            "overflow_x": null,
            "grid_auto_flow": null,
            "grid_area": null,
            "grid_template_columns": null,
            "flex": null,
            "_model_name": "LayoutModel",
            "justify_items": null,
            "grid_row": null,
            "max_height": null,
            "align_content": null,
            "visibility": null,
            "align_self": null,
            "height": null,
            "min_height": null,
            "padding": null,
            "grid_auto_rows": null,
            "grid_gap": null,
            "max_width": null,
            "order": null,
            "_view_module_version": "1.2.0",
            "grid_template_areas": null,
            "object_position": null,
            "object_fit": null,
            "grid_auto_columns": null,
            "margin": null,
            "display": null,
            "left": null
          }
        },
        "2fd53fce8062444cbfff5da73293639e": {
          "model_module": "@jupyter-widgets/controls",
          "model_name": "DescriptionStyleModel",
          "model_module_version": "1.5.0",
          "state": {
            "_view_name": "StyleView",
            "_model_name": "DescriptionStyleModel",
            "description_width": "",
            "_view_module": "@jupyter-widgets/base",
            "_model_module_version": "1.5.0",
            "_view_count": null,
            "_view_module_version": "1.2.0",
            "_model_module": "@jupyter-widgets/controls"
          }
        },
        "c84575afb0f049c88fd3c1d0817d2a02": {
          "model_module": "@jupyter-widgets/base",
          "model_name": "LayoutModel",
          "model_module_version": "1.2.0",
          "state": {
            "_view_name": "LayoutView",
            "grid_template_rows": null,
            "right": null,
            "justify_content": null,
            "_view_module": "@jupyter-widgets/base",
            "overflow": null,
            "_model_module_version": "1.2.0",
            "_view_count": null,
            "flex_flow": null,
            "width": null,
            "min_width": null,
            "border": null,
            "align_items": null,
            "bottom": null,
            "_model_module": "@jupyter-widgets/base",
            "top": null,
            "grid_column": null,
            "overflow_y": null,
            "overflow_x": null,
            "grid_auto_flow": null,
            "grid_area": null,
            "grid_template_columns": null,
            "flex": null,
            "_model_name": "LayoutModel",
            "justify_items": null,
            "grid_row": null,
            "max_height": null,
            "align_content": null,
            "visibility": null,
            "align_self": null,
            "height": null,
            "min_height": null,
            "padding": null,
            "grid_auto_rows": null,
            "grid_gap": null,
            "max_width": null,
            "order": null,
            "_view_module_version": "1.2.0",
            "grid_template_areas": null,
            "object_position": null,
            "object_fit": null,
            "grid_auto_columns": null,
            "margin": null,
            "display": null,
            "left": null
          }
        },
        "cfd57e64907f4d389a2c11a78e4cd83f": {
          "model_module": "@jupyter-widgets/controls",
          "model_name": "HBoxModel",
          "model_module_version": "1.5.0",
          "state": {
            "_view_name": "HBoxView",
            "_dom_classes": [],
            "_model_name": "HBoxModel",
            "_view_module": "@jupyter-widgets/controls",
            "_model_module_version": "1.5.0",
            "_view_count": null,
            "_view_module_version": "1.5.0",
            "box_style": "",
            "layout": "IPY_MODEL_7d7af4f515f347f4bb3ed0d8fd794cec",
            "_model_module": "@jupyter-widgets/controls",
            "children": [
              "IPY_MODEL_bf33a541cee94facb37b683244143e90",
              "IPY_MODEL_a6fe9c69b34f477c960cac52a49a99c3",
              "IPY_MODEL_5f5ec26b0a37438285a18457cacadc88"
            ]
          }
        },
        "7d7af4f515f347f4bb3ed0d8fd794cec": {
          "model_module": "@jupyter-widgets/base",
          "model_name": "LayoutModel",
          "model_module_version": "1.2.0",
          "state": {
            "_view_name": "LayoutView",
            "grid_template_rows": null,
            "right": null,
            "justify_content": null,
            "_view_module": "@jupyter-widgets/base",
            "overflow": null,
            "_model_module_version": "1.2.0",
            "_view_count": null,
            "flex_flow": null,
            "width": null,
            "min_width": null,
            "border": null,
            "align_items": null,
            "bottom": null,
            "_model_module": "@jupyter-widgets/base",
            "top": null,
            "grid_column": null,
            "overflow_y": null,
            "overflow_x": null,
            "grid_auto_flow": null,
            "grid_area": null,
            "grid_template_columns": null,
            "flex": null,
            "_model_name": "LayoutModel",
            "justify_items": null,
            "grid_row": null,
            "max_height": null,
            "align_content": null,
            "visibility": null,
            "align_self": null,
            "height": null,
            "min_height": null,
            "padding": null,
            "grid_auto_rows": null,
            "grid_gap": null,
            "max_width": null,
            "order": null,
            "_view_module_version": "1.2.0",
            "grid_template_areas": null,
            "object_position": null,
            "object_fit": null,
            "grid_auto_columns": null,
            "margin": null,
            "display": null,
            "left": null
          }
        },
        "bf33a541cee94facb37b683244143e90": {
          "model_module": "@jupyter-widgets/controls",
          "model_name": "HTMLModel",
          "model_module_version": "1.5.0",
          "state": {
            "_view_name": "HTMLView",
            "style": "IPY_MODEL_603c774539214064ab183e546d3312f3",
            "_dom_classes": [],
            "description": "",
            "_model_name": "HTMLModel",
            "placeholder": "​",
            "_view_module": "@jupyter-widgets/controls",
            "_model_module_version": "1.5.0",
            "value": "Downloading: 100%",
            "_view_count": null,
            "_view_module_version": "1.5.0",
            "description_tooltip": null,
            "_model_module": "@jupyter-widgets/controls",
            "layout": "IPY_MODEL_3f9e6c63f4574f2e9591b943c1e7d1e5"
          }
        },
        "a6fe9c69b34f477c960cac52a49a99c3": {
          "model_module": "@jupyter-widgets/controls",
          "model_name": "FloatProgressModel",
          "model_module_version": "1.5.0",
          "state": {
            "_view_name": "ProgressView",
            "style": "IPY_MODEL_5d8435ad7afd4218af7a95957993698c",
            "_dom_classes": [],
            "description": "",
            "_model_name": "FloatProgressModel",
            "bar_style": "success",
            "max": 625,
            "_view_module": "@jupyter-widgets/controls",
            "_model_module_version": "1.5.0",
            "value": 625,
            "_view_count": null,
            "_view_module_version": "1.5.0",
            "orientation": "horizontal",
            "min": 0,
            "description_tooltip": null,
            "_model_module": "@jupyter-widgets/controls",
            "layout": "IPY_MODEL_2b1693c543eb49b2a811162d5de01db9"
          }
        },
        "5f5ec26b0a37438285a18457cacadc88": {
          "model_module": "@jupyter-widgets/controls",
          "model_name": "HTMLModel",
          "model_module_version": "1.5.0",
          "state": {
            "_view_name": "HTMLView",
            "style": "IPY_MODEL_7ababcb472a14c06932c07d795793aa1",
            "_dom_classes": [],
            "description": "",
            "_model_name": "HTMLModel",
            "placeholder": "​",
            "_view_module": "@jupyter-widgets/controls",
            "_model_module_version": "1.5.0",
            "value": " 625/625 [00:00&lt;00:00, 11.3kB/s]",
            "_view_count": null,
            "_view_module_version": "1.5.0",
            "description_tooltip": null,
            "_model_module": "@jupyter-widgets/controls",
            "layout": "IPY_MODEL_184ad9172e5c4e0a91a0ef59fe009b2c"
          }
        },
        "603c774539214064ab183e546d3312f3": {
          "model_module": "@jupyter-widgets/controls",
          "model_name": "DescriptionStyleModel",
          "model_module_version": "1.5.0",
          "state": {
            "_view_name": "StyleView",
            "_model_name": "DescriptionStyleModel",
            "description_width": "",
            "_view_module": "@jupyter-widgets/base",
            "_model_module_version": "1.5.0",
            "_view_count": null,
            "_view_module_version": "1.2.0",
            "_model_module": "@jupyter-widgets/controls"
          }
        },
        "3f9e6c63f4574f2e9591b943c1e7d1e5": {
          "model_module": "@jupyter-widgets/base",
          "model_name": "LayoutModel",
          "model_module_version": "1.2.0",
          "state": {
            "_view_name": "LayoutView",
            "grid_template_rows": null,
            "right": null,
            "justify_content": null,
            "_view_module": "@jupyter-widgets/base",
            "overflow": null,
            "_model_module_version": "1.2.0",
            "_view_count": null,
            "flex_flow": null,
            "width": null,
            "min_width": null,
            "border": null,
            "align_items": null,
            "bottom": null,
            "_model_module": "@jupyter-widgets/base",
            "top": null,
            "grid_column": null,
            "overflow_y": null,
            "overflow_x": null,
            "grid_auto_flow": null,
            "grid_area": null,
            "grid_template_columns": null,
            "flex": null,
            "_model_name": "LayoutModel",
            "justify_items": null,
            "grid_row": null,
            "max_height": null,
            "align_content": null,
            "visibility": null,
            "align_self": null,
            "height": null,
            "min_height": null,
            "padding": null,
            "grid_auto_rows": null,
            "grid_gap": null,
            "max_width": null,
            "order": null,
            "_view_module_version": "1.2.0",
            "grid_template_areas": null,
            "object_position": null,
            "object_fit": null,
            "grid_auto_columns": null,
            "margin": null,
            "display": null,
            "left": null
          }
        },
        "5d8435ad7afd4218af7a95957993698c": {
          "model_module": "@jupyter-widgets/controls",
          "model_name": "ProgressStyleModel",
          "model_module_version": "1.5.0",
          "state": {
            "_view_name": "StyleView",
            "_model_name": "ProgressStyleModel",
            "description_width": "",
            "_view_module": "@jupyter-widgets/base",
            "_model_module_version": "1.5.0",
            "_view_count": null,
            "_view_module_version": "1.2.0",
            "bar_color": null,
            "_model_module": "@jupyter-widgets/controls"
          }
        },
        "2b1693c543eb49b2a811162d5de01db9": {
          "model_module": "@jupyter-widgets/base",
          "model_name": "LayoutModel",
          "model_module_version": "1.2.0",
          "state": {
            "_view_name": "LayoutView",
            "grid_template_rows": null,
            "right": null,
            "justify_content": null,
            "_view_module": "@jupyter-widgets/base",
            "overflow": null,
            "_model_module_version": "1.2.0",
            "_view_count": null,
            "flex_flow": null,
            "width": null,
            "min_width": null,
            "border": null,
            "align_items": null,
            "bottom": null,
            "_model_module": "@jupyter-widgets/base",
            "top": null,
            "grid_column": null,
            "overflow_y": null,
            "overflow_x": null,
            "grid_auto_flow": null,
            "grid_area": null,
            "grid_template_columns": null,
            "flex": null,
            "_model_name": "LayoutModel",
            "justify_items": null,
            "grid_row": null,
            "max_height": null,
            "align_content": null,
            "visibility": null,
            "align_self": null,
            "height": null,
            "min_height": null,
            "padding": null,
            "grid_auto_rows": null,
            "grid_gap": null,
            "max_width": null,
            "order": null,
            "_view_module_version": "1.2.0",
            "grid_template_areas": null,
            "object_position": null,
            "object_fit": null,
            "grid_auto_columns": null,
            "margin": null,
            "display": null,
            "left": null
          }
        },
        "7ababcb472a14c06932c07d795793aa1": {
          "model_module": "@jupyter-widgets/controls",
          "model_name": "DescriptionStyleModel",
          "model_module_version": "1.5.0",
          "state": {
            "_view_name": "StyleView",
            "_model_name": "DescriptionStyleModel",
            "description_width": "",
            "_view_module": "@jupyter-widgets/base",
            "_model_module_version": "1.5.0",
            "_view_count": null,
            "_view_module_version": "1.2.0",
            "_model_module": "@jupyter-widgets/controls"
          }
        },
        "184ad9172e5c4e0a91a0ef59fe009b2c": {
          "model_module": "@jupyter-widgets/base",
          "model_name": "LayoutModel",
          "model_module_version": "1.2.0",
          "state": {
            "_view_name": "LayoutView",
            "grid_template_rows": null,
            "right": null,
            "justify_content": null,
            "_view_module": "@jupyter-widgets/base",
            "overflow": null,
            "_model_module_version": "1.2.0",
            "_view_count": null,
            "flex_flow": null,
            "width": null,
            "min_width": null,
            "border": null,
            "align_items": null,
            "bottom": null,
            "_model_module": "@jupyter-widgets/base",
            "top": null,
            "grid_column": null,
            "overflow_y": null,
            "overflow_x": null,
            "grid_auto_flow": null,
            "grid_area": null,
            "grid_template_columns": null,
            "flex": null,
            "_model_name": "LayoutModel",
            "justify_items": null,
            "grid_row": null,
            "max_height": null,
            "align_content": null,
            "visibility": null,
            "align_self": null,
            "height": null,
            "min_height": null,
            "padding": null,
            "grid_auto_rows": null,
            "grid_gap": null,
            "max_width": null,
            "order": null,
            "_view_module_version": "1.2.0",
            "grid_template_areas": null,
            "object_position": null,
            "object_fit": null,
            "grid_auto_columns": null,
            "margin": null,
            "display": null,
            "left": null
          }
        },
        "685c3b43abff4035bc2ced145431be7a": {
          "model_module": "@jupyter-widgets/controls",
          "model_name": "HBoxModel",
          "model_module_version": "1.5.0",
          "state": {
            "_view_name": "HBoxView",
            "_dom_classes": [],
            "_model_name": "HBoxModel",
            "_view_module": "@jupyter-widgets/controls",
            "_model_module_version": "1.5.0",
            "_view_count": null,
            "_view_module_version": "1.5.0",
            "box_style": "",
            "layout": "IPY_MODEL_6857423b017746b19e333b101eb820f9",
            "_model_module": "@jupyter-widgets/controls",
            "children": [
              "IPY_MODEL_c6a1675d912e415ebdb1c94b417055cb",
              "IPY_MODEL_4ea5e7452d7e48fea444adc6f4a27708",
              "IPY_MODEL_d257a6f3d317408f91fdcb27fb2bcff6"
            ]
          }
        },
        "6857423b017746b19e333b101eb820f9": {
          "model_module": "@jupyter-widgets/base",
          "model_name": "LayoutModel",
          "model_module_version": "1.2.0",
          "state": {
            "_view_name": "LayoutView",
            "grid_template_rows": null,
            "right": null,
            "justify_content": null,
            "_view_module": "@jupyter-widgets/base",
            "overflow": null,
            "_model_module_version": "1.2.0",
            "_view_count": null,
            "flex_flow": null,
            "width": null,
            "min_width": null,
            "border": null,
            "align_items": null,
            "bottom": null,
            "_model_module": "@jupyter-widgets/base",
            "top": null,
            "grid_column": null,
            "overflow_y": null,
            "overflow_x": null,
            "grid_auto_flow": null,
            "grid_area": null,
            "grid_template_columns": null,
            "flex": null,
            "_model_name": "LayoutModel",
            "justify_items": null,
            "grid_row": null,
            "max_height": null,
            "align_content": null,
            "visibility": null,
            "align_self": null,
            "height": null,
            "min_height": null,
            "padding": null,
            "grid_auto_rows": null,
            "grid_gap": null,
            "max_width": null,
            "order": null,
            "_view_module_version": "1.2.0",
            "grid_template_areas": null,
            "object_position": null,
            "object_fit": null,
            "grid_auto_columns": null,
            "margin": null,
            "display": null,
            "left": null
          }
        },
        "c6a1675d912e415ebdb1c94b417055cb": {
          "model_module": "@jupyter-widgets/controls",
          "model_name": "HTMLModel",
          "model_module_version": "1.5.0",
          "state": {
            "_view_name": "HTMLView",
            "style": "IPY_MODEL_9305fae896584f56954994a69c48acc0",
            "_dom_classes": [],
            "description": "",
            "_model_name": "HTMLModel",
            "placeholder": "​",
            "_view_module": "@jupyter-widgets/controls",
            "_model_module_version": "1.5.0",
            "value": "Downloading: 100%",
            "_view_count": null,
            "_view_module_version": "1.5.0",
            "description_tooltip": null,
            "_model_module": "@jupyter-widgets/controls",
            "layout": "IPY_MODEL_67bdf2ba134447ea88e8ffd4dedcdac8"
          }
        },
        "4ea5e7452d7e48fea444adc6f4a27708": {
          "model_module": "@jupyter-widgets/controls",
          "model_name": "FloatProgressModel",
          "model_module_version": "1.5.0",
          "state": {
            "_view_name": "ProgressView",
            "style": "IPY_MODEL_8034ab92eb84448c8b78db8a33ba6442",
            "_dom_classes": [],
            "description": "",
            "_model_name": "FloatProgressModel",
            "bar_style": "success",
            "max": 995526,
            "_view_module": "@jupyter-widgets/controls",
            "_model_module_version": "1.5.0",
            "value": 995526,
            "_view_count": null,
            "_view_module_version": "1.5.0",
            "orientation": "horizontal",
            "min": 0,
            "description_tooltip": null,
            "_model_module": "@jupyter-widgets/controls",
            "layout": "IPY_MODEL_0224f8b3d16d4744ae367b73dc9c1957"
          }
        },
        "d257a6f3d317408f91fdcb27fb2bcff6": {
          "model_module": "@jupyter-widgets/controls",
          "model_name": "HTMLModel",
          "model_module_version": "1.5.0",
          "state": {
            "_view_name": "HTMLView",
            "style": "IPY_MODEL_433be363b8bb4683b3004238449965c9",
            "_dom_classes": [],
            "description": "",
            "_model_name": "HTMLModel",
            "placeholder": "​",
            "_view_module": "@jupyter-widgets/controls",
            "_model_module_version": "1.5.0",
            "value": " 996k/996k [00:00&lt;00:00, 4.60MB/s]",
            "_view_count": null,
            "_view_module_version": "1.5.0",
            "description_tooltip": null,
            "_model_module": "@jupyter-widgets/controls",
            "layout": "IPY_MODEL_ae0161a27d36499894fa8a4b9d14d6c6"
          }
        },
        "9305fae896584f56954994a69c48acc0": {
          "model_module": "@jupyter-widgets/controls",
          "model_name": "DescriptionStyleModel",
          "model_module_version": "1.5.0",
          "state": {
            "_view_name": "StyleView",
            "_model_name": "DescriptionStyleModel",
            "description_width": "",
            "_view_module": "@jupyter-widgets/base",
            "_model_module_version": "1.5.0",
            "_view_count": null,
            "_view_module_version": "1.2.0",
            "_model_module": "@jupyter-widgets/controls"
          }
        },
        "67bdf2ba134447ea88e8ffd4dedcdac8": {
          "model_module": "@jupyter-widgets/base",
          "model_name": "LayoutModel",
          "model_module_version": "1.2.0",
          "state": {
            "_view_name": "LayoutView",
            "grid_template_rows": null,
            "right": null,
            "justify_content": null,
            "_view_module": "@jupyter-widgets/base",
            "overflow": null,
            "_model_module_version": "1.2.0",
            "_view_count": null,
            "flex_flow": null,
            "width": null,
            "min_width": null,
            "border": null,
            "align_items": null,
            "bottom": null,
            "_model_module": "@jupyter-widgets/base",
            "top": null,
            "grid_column": null,
            "overflow_y": null,
            "overflow_x": null,
            "grid_auto_flow": null,
            "grid_area": null,
            "grid_template_columns": null,
            "flex": null,
            "_model_name": "LayoutModel",
            "justify_items": null,
            "grid_row": null,
            "max_height": null,
            "align_content": null,
            "visibility": null,
            "align_self": null,
            "height": null,
            "min_height": null,
            "padding": null,
            "grid_auto_rows": null,
            "grid_gap": null,
            "max_width": null,
            "order": null,
            "_view_module_version": "1.2.0",
            "grid_template_areas": null,
            "object_position": null,
            "object_fit": null,
            "grid_auto_columns": null,
            "margin": null,
            "display": null,
            "left": null
          }
        },
        "8034ab92eb84448c8b78db8a33ba6442": {
          "model_module": "@jupyter-widgets/controls",
          "model_name": "ProgressStyleModel",
          "model_module_version": "1.5.0",
          "state": {
            "_view_name": "StyleView",
            "_model_name": "ProgressStyleModel",
            "description_width": "",
            "_view_module": "@jupyter-widgets/base",
            "_model_module_version": "1.5.0",
            "_view_count": null,
            "_view_module_version": "1.2.0",
            "bar_color": null,
            "_model_module": "@jupyter-widgets/controls"
          }
        },
        "0224f8b3d16d4744ae367b73dc9c1957": {
          "model_module": "@jupyter-widgets/base",
          "model_name": "LayoutModel",
          "model_module_version": "1.2.0",
          "state": {
            "_view_name": "LayoutView",
            "grid_template_rows": null,
            "right": null,
            "justify_content": null,
            "_view_module": "@jupyter-widgets/base",
            "overflow": null,
            "_model_module_version": "1.2.0",
            "_view_count": null,
            "flex_flow": null,
            "width": null,
            "min_width": null,
            "border": null,
            "align_items": null,
            "bottom": null,
            "_model_module": "@jupyter-widgets/base",
            "top": null,
            "grid_column": null,
            "overflow_y": null,
            "overflow_x": null,
            "grid_auto_flow": null,
            "grid_area": null,
            "grid_template_columns": null,
            "flex": null,
            "_model_name": "LayoutModel",
            "justify_items": null,
            "grid_row": null,
            "max_height": null,
            "align_content": null,
            "visibility": null,
            "align_self": null,
            "height": null,
            "min_height": null,
            "padding": null,
            "grid_auto_rows": null,
            "grid_gap": null,
            "max_width": null,
            "order": null,
            "_view_module_version": "1.2.0",
            "grid_template_areas": null,
            "object_position": null,
            "object_fit": null,
            "grid_auto_columns": null,
            "margin": null,
            "display": null,
            "left": null
          }
        },
        "433be363b8bb4683b3004238449965c9": {
          "model_module": "@jupyter-widgets/controls",
          "model_name": "DescriptionStyleModel",
          "model_module_version": "1.5.0",
          "state": {
            "_view_name": "StyleView",
            "_model_name": "DescriptionStyleModel",
            "description_width": "",
            "_view_module": "@jupyter-widgets/base",
            "_model_module_version": "1.5.0",
            "_view_count": null,
            "_view_module_version": "1.2.0",
            "_model_module": "@jupyter-widgets/controls"
          }
        },
        "ae0161a27d36499894fa8a4b9d14d6c6": {
          "model_module": "@jupyter-widgets/base",
          "model_name": "LayoutModel",
          "model_module_version": "1.2.0",
          "state": {
            "_view_name": "LayoutView",
            "grid_template_rows": null,
            "right": null,
            "justify_content": null,
            "_view_module": "@jupyter-widgets/base",
            "overflow": null,
            "_model_module_version": "1.2.0",
            "_view_count": null,
            "flex_flow": null,
            "width": null,
            "min_width": null,
            "border": null,
            "align_items": null,
            "bottom": null,
            "_model_module": "@jupyter-widgets/base",
            "top": null,
            "grid_column": null,
            "overflow_y": null,
            "overflow_x": null,
            "grid_auto_flow": null,
            "grid_area": null,
            "grid_template_columns": null,
            "flex": null,
            "_model_name": "LayoutModel",
            "justify_items": null,
            "grid_row": null,
            "max_height": null,
            "align_content": null,
            "visibility": null,
            "align_self": null,
            "height": null,
            "min_height": null,
            "padding": null,
            "grid_auto_rows": null,
            "grid_gap": null,
            "max_width": null,
            "order": null,
            "_view_module_version": "1.2.0",
            "grid_template_areas": null,
            "object_position": null,
            "object_fit": null,
            "grid_auto_columns": null,
            "margin": null,
            "display": null,
            "left": null
          }
        },
        "12b0a3c028d74552a94acc7e4825eb03": {
          "model_module": "@jupyter-widgets/controls",
          "model_name": "HBoxModel",
          "model_module_version": "1.5.0",
          "state": {
            "_view_name": "HBoxView",
            "_dom_classes": [],
            "_model_name": "HBoxModel",
            "_view_module": "@jupyter-widgets/controls",
            "_model_module_version": "1.5.0",
            "_view_count": null,
            "_view_module_version": "1.5.0",
            "box_style": "",
            "layout": "IPY_MODEL_33647e49a40a4a78853dac9d1038be34",
            "_model_module": "@jupyter-widgets/controls",
            "children": [
              "IPY_MODEL_6a101731a0b94702beaba0f677a39066",
              "IPY_MODEL_977f10cf5b4542c8beaeeff0eaaaf790",
              "IPY_MODEL_1e024b3ac1c74ba7828707bab14930ce"
            ]
          }
        },
        "33647e49a40a4a78853dac9d1038be34": {
          "model_module": "@jupyter-widgets/base",
          "model_name": "LayoutModel",
          "model_module_version": "1.2.0",
          "state": {
            "_view_name": "LayoutView",
            "grid_template_rows": null,
            "right": null,
            "justify_content": null,
            "_view_module": "@jupyter-widgets/base",
            "overflow": null,
            "_model_module_version": "1.2.0",
            "_view_count": null,
            "flex_flow": null,
            "width": null,
            "min_width": null,
            "border": null,
            "align_items": null,
            "bottom": null,
            "_model_module": "@jupyter-widgets/base",
            "top": null,
            "grid_column": null,
            "overflow_y": null,
            "overflow_x": null,
            "grid_auto_flow": null,
            "grid_area": null,
            "grid_template_columns": null,
            "flex": null,
            "_model_name": "LayoutModel",
            "justify_items": null,
            "grid_row": null,
            "max_height": null,
            "align_content": null,
            "visibility": null,
            "align_self": null,
            "height": null,
            "min_height": null,
            "padding": null,
            "grid_auto_rows": null,
            "grid_gap": null,
            "max_width": null,
            "order": null,
            "_view_module_version": "1.2.0",
            "grid_template_areas": null,
            "object_position": null,
            "object_fit": null,
            "grid_auto_columns": null,
            "margin": null,
            "display": null,
            "left": null
          }
        },
        "6a101731a0b94702beaba0f677a39066": {
          "model_module": "@jupyter-widgets/controls",
          "model_name": "HTMLModel",
          "model_module_version": "1.5.0",
          "state": {
            "_view_name": "HTMLView",
            "style": "IPY_MODEL_fa34dbd94191437982d8630fb4a98fa8",
            "_dom_classes": [],
            "description": "",
            "_model_name": "HTMLModel",
            "placeholder": "​",
            "_view_module": "@jupyter-widgets/controls",
            "_model_module_version": "1.5.0",
            "value": "Downloading: 100%",
            "_view_count": null,
            "_view_module_version": "1.5.0",
            "description_tooltip": null,
            "_model_module": "@jupyter-widgets/controls",
            "layout": "IPY_MODEL_86f2f306528147e38ae7c6de8768e933"
          }
        },
        "977f10cf5b4542c8beaeeff0eaaaf790": {
          "model_module": "@jupyter-widgets/controls",
          "model_name": "FloatProgressModel",
          "model_module_version": "1.5.0",
          "state": {
            "_view_name": "ProgressView",
            "style": "IPY_MODEL_e77a500f01ab47abbece5506a4b8a01b",
            "_dom_classes": [],
            "description": "",
            "_model_name": "FloatProgressModel",
            "bar_style": "success",
            "max": 1961828,
            "_view_module": "@jupyter-widgets/controls",
            "_model_module_version": "1.5.0",
            "value": 1961828,
            "_view_count": null,
            "_view_module_version": "1.5.0",
            "orientation": "horizontal",
            "min": 0,
            "description_tooltip": null,
            "_model_module": "@jupyter-widgets/controls",
            "layout": "IPY_MODEL_a517492387e74c1e81baa262f619da90"
          }
        },
        "1e024b3ac1c74ba7828707bab14930ce": {
          "model_module": "@jupyter-widgets/controls",
          "model_name": "HTMLModel",
          "model_module_version": "1.5.0",
          "state": {
            "_view_name": "HTMLView",
            "style": "IPY_MODEL_79923bb268ad4b17a487ae6f33bdeef0",
            "_dom_classes": [],
            "description": "",
            "_model_name": "HTMLModel",
            "placeholder": "​",
            "_view_module": "@jupyter-widgets/controls",
            "_model_module_version": "1.5.0",
            "value": " 1.96M/1.96M [00:00&lt;00:00, 5.72MB/s]",
            "_view_count": null,
            "_view_module_version": "1.5.0",
            "description_tooltip": null,
            "_model_module": "@jupyter-widgets/controls",
            "layout": "IPY_MODEL_cc51461582ef42db88800f88628e6a62"
          }
        },
        "fa34dbd94191437982d8630fb4a98fa8": {
          "model_module": "@jupyter-widgets/controls",
          "model_name": "DescriptionStyleModel",
          "model_module_version": "1.5.0",
          "state": {
            "_view_name": "StyleView",
            "_model_name": "DescriptionStyleModel",
            "description_width": "",
            "_view_module": "@jupyter-widgets/base",
            "_model_module_version": "1.5.0",
            "_view_count": null,
            "_view_module_version": "1.2.0",
            "_model_module": "@jupyter-widgets/controls"
          }
        },
        "86f2f306528147e38ae7c6de8768e933": {
          "model_module": "@jupyter-widgets/base",
          "model_name": "LayoutModel",
          "model_module_version": "1.2.0",
          "state": {
            "_view_name": "LayoutView",
            "grid_template_rows": null,
            "right": null,
            "justify_content": null,
            "_view_module": "@jupyter-widgets/base",
            "overflow": null,
            "_model_module_version": "1.2.0",
            "_view_count": null,
            "flex_flow": null,
            "width": null,
            "min_width": null,
            "border": null,
            "align_items": null,
            "bottom": null,
            "_model_module": "@jupyter-widgets/base",
            "top": null,
            "grid_column": null,
            "overflow_y": null,
            "overflow_x": null,
            "grid_auto_flow": null,
            "grid_area": null,
            "grid_template_columns": null,
            "flex": null,
            "_model_name": "LayoutModel",
            "justify_items": null,
            "grid_row": null,
            "max_height": null,
            "align_content": null,
            "visibility": null,
            "align_self": null,
            "height": null,
            "min_height": null,
            "padding": null,
            "grid_auto_rows": null,
            "grid_gap": null,
            "max_width": null,
            "order": null,
            "_view_module_version": "1.2.0",
            "grid_template_areas": null,
            "object_position": null,
            "object_fit": null,
            "grid_auto_columns": null,
            "margin": null,
            "display": null,
            "left": null
          }
        },
        "e77a500f01ab47abbece5506a4b8a01b": {
          "model_module": "@jupyter-widgets/controls",
          "model_name": "ProgressStyleModel",
          "model_module_version": "1.5.0",
          "state": {
            "_view_name": "StyleView",
            "_model_name": "ProgressStyleModel",
            "description_width": "",
            "_view_module": "@jupyter-widgets/base",
            "_model_module_version": "1.5.0",
            "_view_count": null,
            "_view_module_version": "1.2.0",
            "bar_color": null,
            "_model_module": "@jupyter-widgets/controls"
          }
        },
        "a517492387e74c1e81baa262f619da90": {
          "model_module": "@jupyter-widgets/base",
          "model_name": "LayoutModel",
          "model_module_version": "1.2.0",
          "state": {
            "_view_name": "LayoutView",
            "grid_template_rows": null,
            "right": null,
            "justify_content": null,
            "_view_module": "@jupyter-widgets/base",
            "overflow": null,
            "_model_module_version": "1.2.0",
            "_view_count": null,
            "flex_flow": null,
            "width": null,
            "min_width": null,
            "border": null,
            "align_items": null,
            "bottom": null,
            "_model_module": "@jupyter-widgets/base",
            "top": null,
            "grid_column": null,
            "overflow_y": null,
            "overflow_x": null,
            "grid_auto_flow": null,
            "grid_area": null,
            "grid_template_columns": null,
            "flex": null,
            "_model_name": "LayoutModel",
            "justify_items": null,
            "grid_row": null,
            "max_height": null,
            "align_content": null,
            "visibility": null,
            "align_self": null,
            "height": null,
            "min_height": null,
            "padding": null,
            "grid_auto_rows": null,
            "grid_gap": null,
            "max_width": null,
            "order": null,
            "_view_module_version": "1.2.0",
            "grid_template_areas": null,
            "object_position": null,
            "object_fit": null,
            "grid_auto_columns": null,
            "margin": null,
            "display": null,
            "left": null
          }
        },
        "79923bb268ad4b17a487ae6f33bdeef0": {
          "model_module": "@jupyter-widgets/controls",
          "model_name": "DescriptionStyleModel",
          "model_module_version": "1.5.0",
          "state": {
            "_view_name": "StyleView",
            "_model_name": "DescriptionStyleModel",
            "description_width": "",
            "_view_module": "@jupyter-widgets/base",
            "_model_module_version": "1.5.0",
            "_view_count": null,
            "_view_module_version": "1.2.0",
            "_model_module": "@jupyter-widgets/controls"
          }
        },
        "cc51461582ef42db88800f88628e6a62": {
          "model_module": "@jupyter-widgets/base",
          "model_name": "LayoutModel",
          "model_module_version": "1.2.0",
          "state": {
            "_view_name": "LayoutView",
            "grid_template_rows": null,
            "right": null,
            "justify_content": null,
            "_view_module": "@jupyter-widgets/base",
            "overflow": null,
            "_model_module_version": "1.2.0",
            "_view_count": null,
            "flex_flow": null,
            "width": null,
            "min_width": null,
            "border": null,
            "align_items": null,
            "bottom": null,
            "_model_module": "@jupyter-widgets/base",
            "top": null,
            "grid_column": null,
            "overflow_y": null,
            "overflow_x": null,
            "grid_auto_flow": null,
            "grid_area": null,
            "grid_template_columns": null,
            "flex": null,
            "_model_name": "LayoutModel",
            "justify_items": null,
            "grid_row": null,
            "max_height": null,
            "align_content": null,
            "visibility": null,
            "align_self": null,
            "height": null,
            "min_height": null,
            "padding": null,
            "grid_auto_rows": null,
            "grid_gap": null,
            "max_width": null,
            "order": null,
            "_view_module_version": "1.2.0",
            "grid_template_areas": null,
            "object_position": null,
            "object_fit": null,
            "grid_auto_columns": null,
            "margin": null,
            "display": null,
            "left": null
          }
        },
        "e38da460fb364eefba9f879c3e09a53c": {
          "model_module": "@jupyter-widgets/controls",
          "model_name": "HBoxModel",
          "model_module_version": "1.5.0",
          "state": {
            "_view_name": "HBoxView",
            "_dom_classes": [],
            "_model_name": "HBoxModel",
            "_view_module": "@jupyter-widgets/controls",
            "_model_module_version": "1.5.0",
            "_view_count": null,
            "_view_module_version": "1.5.0",
            "box_style": "",
            "layout": "IPY_MODEL_f8c0010e3b8c44c8a2a8c2c4c25e4be4",
            "_model_module": "@jupyter-widgets/controls",
            "children": [
              "IPY_MODEL_cef9cea445004b5599b25ab9e42c989a",
              "IPY_MODEL_d32c9c30249f488389cd48d4ec316131",
              "IPY_MODEL_3719af4939c040eab1e0b23f116eb9a1"
            ]
          }
        },
        "f8c0010e3b8c44c8a2a8c2c4c25e4be4": {
          "model_module": "@jupyter-widgets/base",
          "model_name": "LayoutModel",
          "model_module_version": "1.2.0",
          "state": {
            "_view_name": "LayoutView",
            "grid_template_rows": null,
            "right": null,
            "justify_content": null,
            "_view_module": "@jupyter-widgets/base",
            "overflow": null,
            "_model_module_version": "1.2.0",
            "_view_count": null,
            "flex_flow": null,
            "width": null,
            "min_width": null,
            "border": null,
            "align_items": null,
            "bottom": null,
            "_model_module": "@jupyter-widgets/base",
            "top": null,
            "grid_column": null,
            "overflow_y": null,
            "overflow_x": null,
            "grid_auto_flow": null,
            "grid_area": null,
            "grid_template_columns": null,
            "flex": null,
            "_model_name": "LayoutModel",
            "justify_items": null,
            "grid_row": null,
            "max_height": null,
            "align_content": null,
            "visibility": null,
            "align_self": null,
            "height": null,
            "min_height": null,
            "padding": null,
            "grid_auto_rows": null,
            "grid_gap": null,
            "max_width": null,
            "order": null,
            "_view_module_version": "1.2.0",
            "grid_template_areas": null,
            "object_position": null,
            "object_fit": null,
            "grid_auto_columns": null,
            "margin": null,
            "display": null,
            "left": null
          }
        },
        "cef9cea445004b5599b25ab9e42c989a": {
          "model_module": "@jupyter-widgets/controls",
          "model_name": "HTMLModel",
          "model_module_version": "1.5.0",
          "state": {
            "_view_name": "HTMLView",
            "style": "IPY_MODEL_b967777ba62b4966b8440671a6889409",
            "_dom_classes": [],
            "description": "",
            "_model_name": "HTMLModel",
            "placeholder": "​",
            "_view_module": "@jupyter-widgets/controls",
            "_model_module_version": "1.5.0",
            "value": "Downloading: 100%",
            "_view_count": null,
            "_view_module_version": "1.5.0",
            "description_tooltip": null,
            "_model_module": "@jupyter-widgets/controls",
            "layout": "IPY_MODEL_1572a7b633ed4235a11edb857a811a92"
          }
        },
        "d32c9c30249f488389cd48d4ec316131": {
          "model_module": "@jupyter-widgets/controls",
          "model_name": "FloatProgressModel",
          "model_module_version": "1.5.0",
          "state": {
            "_view_name": "ProgressView",
            "style": "IPY_MODEL_04dcf88408b4454eb112baf06fbd6764",
            "_dom_classes": [],
            "description": "",
            "_model_name": "FloatProgressModel",
            "bar_style": "success",
            "max": 1083389348,
            "_view_module": "@jupyter-widgets/controls",
            "_model_module_version": "1.5.0",
            "value": 1083389348,
            "_view_count": null,
            "_view_module_version": "1.5.0",
            "orientation": "horizontal",
            "min": 0,
            "description_tooltip": null,
            "_model_module": "@jupyter-widgets/controls",
            "layout": "IPY_MODEL_42c625c2938846db8bdd2f28a31fc48c"
          }
        },
        "3719af4939c040eab1e0b23f116eb9a1": {
          "model_module": "@jupyter-widgets/controls",
          "model_name": "HTMLModel",
          "model_module_version": "1.5.0",
          "state": {
            "_view_name": "HTMLView",
            "style": "IPY_MODEL_2d9c86dc30e14023ac16b008f281c7ce",
            "_dom_classes": [],
            "description": "",
            "_model_name": "HTMLModel",
            "placeholder": "​",
            "_view_module": "@jupyter-widgets/controls",
            "_model_module_version": "1.5.0",
            "value": " 1.08G/1.08G [00:30&lt;00:00, 40.6MB/s]",
            "_view_count": null,
            "_view_module_version": "1.5.0",
            "description_tooltip": null,
            "_model_module": "@jupyter-widgets/controls",
            "layout": "IPY_MODEL_11f6e500576b4d63a8693f1b0ebdeee4"
          }
        },
        "b967777ba62b4966b8440671a6889409": {
          "model_module": "@jupyter-widgets/controls",
          "model_name": "DescriptionStyleModel",
          "model_module_version": "1.5.0",
          "state": {
            "_view_name": "StyleView",
            "_model_name": "DescriptionStyleModel",
            "description_width": "",
            "_view_module": "@jupyter-widgets/base",
            "_model_module_version": "1.5.0",
            "_view_count": null,
            "_view_module_version": "1.2.0",
            "_model_module": "@jupyter-widgets/controls"
          }
        },
        "1572a7b633ed4235a11edb857a811a92": {
          "model_module": "@jupyter-widgets/base",
          "model_name": "LayoutModel",
          "model_module_version": "1.2.0",
          "state": {
            "_view_name": "LayoutView",
            "grid_template_rows": null,
            "right": null,
            "justify_content": null,
            "_view_module": "@jupyter-widgets/base",
            "overflow": null,
            "_model_module_version": "1.2.0",
            "_view_count": null,
            "flex_flow": null,
            "width": null,
            "min_width": null,
            "border": null,
            "align_items": null,
            "bottom": null,
            "_model_module": "@jupyter-widgets/base",
            "top": null,
            "grid_column": null,
            "overflow_y": null,
            "overflow_x": null,
            "grid_auto_flow": null,
            "grid_area": null,
            "grid_template_columns": null,
            "flex": null,
            "_model_name": "LayoutModel",
            "justify_items": null,
            "grid_row": null,
            "max_height": null,
            "align_content": null,
            "visibility": null,
            "align_self": null,
            "height": null,
            "min_height": null,
            "padding": null,
            "grid_auto_rows": null,
            "grid_gap": null,
            "max_width": null,
            "order": null,
            "_view_module_version": "1.2.0",
            "grid_template_areas": null,
            "object_position": null,
            "object_fit": null,
            "grid_auto_columns": null,
            "margin": null,
            "display": null,
            "left": null
          }
        },
        "04dcf88408b4454eb112baf06fbd6764": {
          "model_module": "@jupyter-widgets/controls",
          "model_name": "ProgressStyleModel",
          "model_module_version": "1.5.0",
          "state": {
            "_view_name": "StyleView",
            "_model_name": "ProgressStyleModel",
            "description_width": "",
            "_view_module": "@jupyter-widgets/base",
            "_model_module_version": "1.5.0",
            "_view_count": null,
            "_view_module_version": "1.2.0",
            "bar_color": null,
            "_model_module": "@jupyter-widgets/controls"
          }
        },
        "42c625c2938846db8bdd2f28a31fc48c": {
          "model_module": "@jupyter-widgets/base",
          "model_name": "LayoutModel",
          "model_module_version": "1.2.0",
          "state": {
            "_view_name": "LayoutView",
            "grid_template_rows": null,
            "right": null,
            "justify_content": null,
            "_view_module": "@jupyter-widgets/base",
            "overflow": null,
            "_model_module_version": "1.2.0",
            "_view_count": null,
            "flex_flow": null,
            "width": null,
            "min_width": null,
            "border": null,
            "align_items": null,
            "bottom": null,
            "_model_module": "@jupyter-widgets/base",
            "top": null,
            "grid_column": null,
            "overflow_y": null,
            "overflow_x": null,
            "grid_auto_flow": null,
            "grid_area": null,
            "grid_template_columns": null,
            "flex": null,
            "_model_name": "LayoutModel",
            "justify_items": null,
            "grid_row": null,
            "max_height": null,
            "align_content": null,
            "visibility": null,
            "align_self": null,
            "height": null,
            "min_height": null,
            "padding": null,
            "grid_auto_rows": null,
            "grid_gap": null,
            "max_width": null,
            "order": null,
            "_view_module_version": "1.2.0",
            "grid_template_areas": null,
            "object_position": null,
            "object_fit": null,
            "grid_auto_columns": null,
            "margin": null,
            "display": null,
            "left": null
          }
        },
        "2d9c86dc30e14023ac16b008f281c7ce": {
          "model_module": "@jupyter-widgets/controls",
          "model_name": "DescriptionStyleModel",
          "model_module_version": "1.5.0",
          "state": {
            "_view_name": "StyleView",
            "_model_name": "DescriptionStyleModel",
            "description_width": "",
            "_view_module": "@jupyter-widgets/base",
            "_model_module_version": "1.5.0",
            "_view_count": null,
            "_view_module_version": "1.2.0",
            "_model_module": "@jupyter-widgets/controls"
          }
        },
        "11f6e500576b4d63a8693f1b0ebdeee4": {
          "model_module": "@jupyter-widgets/base",
          "model_name": "LayoutModel",
          "model_module_version": "1.2.0",
          "state": {
            "_view_name": "LayoutView",
            "grid_template_rows": null,
            "right": null,
            "justify_content": null,
            "_view_module": "@jupyter-widgets/base",
            "overflow": null,
            "_model_module_version": "1.2.0",
            "_view_count": null,
            "flex_flow": null,
            "width": null,
            "min_width": null,
            "border": null,
            "align_items": null,
            "bottom": null,
            "_model_module": "@jupyter-widgets/base",
            "top": null,
            "grid_column": null,
            "overflow_y": null,
            "overflow_x": null,
            "grid_auto_flow": null,
            "grid_area": null,
            "grid_template_columns": null,
            "flex": null,
            "_model_name": "LayoutModel",
            "justify_items": null,
            "grid_row": null,
            "max_height": null,
            "align_content": null,
            "visibility": null,
            "align_self": null,
            "height": null,
            "min_height": null,
            "padding": null,
            "grid_auto_rows": null,
            "grid_gap": null,
            "max_width": null,
            "order": null,
            "_view_module_version": "1.2.0",
            "grid_template_areas": null,
            "object_position": null,
            "object_fit": null,
            "grid_auto_columns": null,
            "margin": null,
            "display": null,
            "left": null
          }
        }
      }
    }
  },
  "cells": [
    {
      "cell_type": "markdown",
      "metadata": {
        "id": "view-in-github",
        "colab_type": "text"
      },
      "source": [
        "<a href=\"https://colab.research.google.com/github/Alassane-DIAllo/AI-in-Trading-Centrale/blob/master/BERT_algorithm_Cosmic_Automation_version3.ipynb\" target=\"_parent\"><img src=\"https://colab.research.google.com/assets/colab-badge.svg\" alt=\"Open In Colab\"/></a>"
      ]
    },
    {
      "cell_type": "markdown",
      "metadata": {
        "id": "o4YgXBspJFkq"
      },
      "source": [
        "### *We will be presenting the implementation of the BERT algorithm for the Name Entity Recogntion task*. \n",
        "\n",
        "### **Summary of the Task**\n",
        "####To quickly summarize our task, we are trying to build a NLP model to detect the name entities associated to an input data. For now on, we will be considering two entities : \"Data group\" and \"Data mouvement\". \n",
        "\n",
        "### **For doing so, we will consider the following steps:** \n",
        "- Importation of the Data : the data we will be working on has a specific format in accordance with the NER task . \n",
        "\n",
        "- Data engineering: In this step, we will be working on our dataset. More specifically we will clean it,  we will seperate the inputs data from the targets(which represent the name entity tags) .The data will be split into training dataset and validation dataset, so that the performance of the model can be evaluated. \n",
        "Also, We will make use of the pytorch dataloader to load the batches of training dataset as well and the validation dataset. \n",
        "\n",
        "- Then, we will build our BERT algorithm to perform the name entity task. The model can be found on the **transformers** library .  \n",
        "\n",
        "- After defining the model architecture , we will train it using the train dataloader , then validate the model with the test dataloader.\n",
        "\n",
        "- To evaluate the performance of our model, we make use of a F1-score metric. This compares the precision of the model to the recall and is very used in real world classification problem . It can be written as : \n",
        "\n",
        "$$ F1-score = \\frac{2*precision* recall}{precision+ recall}$$\n",
        "\n",
        "- To finish , we will deploy the model to production using flask and AWS . \n"
      ]
    },
    {
      "cell_type": "code",
      "metadata": {
        "colab": {
          "base_uri": "https://localhost:8080/"
        },
        "id": "_p-7JMUzabbN",
        "outputId": "0f6f284a-9b1e-4665-e2ed-a9408b01adda"
      },
      "source": [
        "## mount the drive in the colab notebook \n",
        "from google.colab import drive\n",
        "drive.mount('/content/drive')"
      ],
      "execution_count": null,
      "outputs": [
        {
          "output_type": "stream",
          "name": "stdout",
          "text": [
            "Drive already mounted at /content/drive; to attempt to forcibly remount, call drive.mount(\"/content/drive\", force_remount=True).\n"
          ]
        }
      ]
    },
    {
      "cell_type": "markdown",
      "metadata": {
        "id": "sU2fVBrbX1rJ"
      },
      "source": [
        "###**Package installation**"
      ]
    },
    {
      "cell_type": "code",
      "metadata": {
        "id": "dqSChT7gX01w"
      },
      "source": [
        "!pip install ktrain"
      ],
      "execution_count": null,
      "outputs": []
    },
    {
      "cell_type": "markdown",
      "metadata": {
        "id": "xogM-8UkX5ZO"
      },
      "source": [
        "### **1-Data Description**"
      ]
    },
    {
      "cell_type": "markdown",
      "metadata": {
        "id": "pEOYt-4TXY9x"
      },
      "source": [
        "For the moment the data we will be using for estimanting the CFP is unknown. For illustrative purposes, we will be using a similar data format, which we will use to to train the Bert model. The implementation we will be performing is data independent, which means that the same implementation can be used for a different dataset. The data can be found under the name \"ner.csv\" on the data_estimancy folder . "
      ]
    },
    {
      "cell_type": "code",
      "metadata": {
        "id": "XnOYhZXeWL7t"
      },
      "source": [
        "import pandas as pd\n",
        "import matplotlib.pyplot as plt"
      ],
      "execution_count": null,
      "outputs": []
    },
    {
      "cell_type": "code",
      "metadata": {
        "id": "vk4iev7Tk8n_"
      },
      "source": [
        "\n",
        "df1 = pd.read_excel(\"/content/drive/MyDrive/Colab Notebooks/Data_Estimancy/ENEDIS_taggage.xlsx\") \n",
        "df2 = pd.read_excel(\"/content/drive/MyDrive/Colab Notebooks/Data_Estimancy/IDES.xlsx\")\n",
        "df3 = pd.read_excel(\"/content/drive/MyDrive/Colab Notebooks/Data_Estimancy/casestudy.xlsx\")\n",
        "\n",
        "df = pd.DataFrame()\n",
        "df = df.append([df1, df2, df3])"
      ],
      "execution_count": null,
      "outputs": []
    },
    {
      "cell_type": "markdown",
      "metadata": {
        "id": "iFvu4x0Vc739"
      },
      "source": [
        "We will only consider three caracteristics of the data : \"pos\", \"word\", \"sentence_idx\" representing the \"part of speech \" of each \"word\" belonging to the sentence of id : \"sentence_idx\". This choice of feature set is for the purpose of simplicity . The feature set can eventually be extended to improve the performance of the model . "
      ]
    },
    {
      "cell_type": "code",
      "metadata": {
        "id": "Ua3bjGeCc5N6"
      },
      "source": [
        "df = df[[ \"word\", \"sentence_idx\", \"tag\"]].dropna()"
      ],
      "execution_count": null,
      "outputs": []
    },
    {
      "cell_type": "code",
      "metadata": {
        "colab": {
          "base_uri": "https://localhost:8080/",
          "height": 204
        },
        "id": "gMxkseV7gc1J",
        "outputId": "84a17ebf-8cd6-48b0-f316-bab2c2354c28"
      },
      "source": [
        "df.head()"
      ],
      "execution_count": null,
      "outputs": [
        {
          "output_type": "execute_result",
          "data": {
            "text/html": [
              "<div>\n",
              "<style scoped>\n",
              "    .dataframe tbody tr th:only-of-type {\n",
              "        vertical-align: middle;\n",
              "    }\n",
              "\n",
              "    .dataframe tbody tr th {\n",
              "        vertical-align: top;\n",
              "    }\n",
              "\n",
              "    .dataframe thead th {\n",
              "        text-align: right;\n",
              "    }\n",
              "</style>\n",
              "<table border=\"1\" class=\"dataframe\">\n",
              "  <thead>\n",
              "    <tr style=\"text-align: right;\">\n",
              "      <th></th>\n",
              "      <th>word</th>\n",
              "      <th>sentence_idx</th>\n",
              "      <th>tag</th>\n",
              "    </tr>\n",
              "  </thead>\n",
              "  <tbody>\n",
              "    <tr>\n",
              "      <th>0</th>\n",
              "      <td>To</td>\n",
              "      <td>1.0</td>\n",
              "      <td>O</td>\n",
              "    </tr>\n",
              "    <tr>\n",
              "      <th>1</th>\n",
              "      <td>access</td>\n",
              "      <td>1.0</td>\n",
              "      <td>O</td>\n",
              "    </tr>\n",
              "    <tr>\n",
              "      <th>2</th>\n",
              "      <td>the</td>\n",
              "      <td>1.0</td>\n",
              "      <td>O</td>\n",
              "    </tr>\n",
              "    <tr>\n",
              "      <th>3</th>\n",
              "      <td>application</td>\n",
              "      <td>1.0</td>\n",
              "      <td>O</td>\n",
              "    </tr>\n",
              "    <tr>\n",
              "      <th>4</th>\n",
              "      <td>from</td>\n",
              "      <td>1.0</td>\n",
              "      <td>O</td>\n",
              "    </tr>\n",
              "  </tbody>\n",
              "</table>\n",
              "</div>"
            ],
            "text/plain": [
              "          word  sentence_idx tag\n",
              "0           To           1.0   O\n",
              "1       access           1.0   O\n",
              "2          the           1.0   O\n",
              "3  application           1.0   O\n",
              "4         from           1.0   O"
            ]
          },
          "metadata": {},
          "execution_count": 157
        }
      ]
    },
    {
      "cell_type": "code",
      "metadata": {
        "colab": {
          "base_uri": "https://localhost:8080/"
        },
        "id": "usiz6bxExG6F",
        "outputId": "12d539de-73f9-45d8-a616-93b22f2504c1"
      },
      "source": [
        "print(\"Total number of sentences {0}\".format(df[\"sentence_idx\"].nunique()))\n",
        "\n",
        "print(\"Total number of words {}\".format(df[\"word\"].shape[0]))"
      ],
      "execution_count": null,
      "outputs": [
        {
          "output_type": "stream",
          "name": "stdout",
          "text": [
            "Total number of sentences 189\n",
            "Total number of words 6073\n"
          ]
        }
      ]
    },
    {
      "cell_type": "code",
      "metadata": {
        "id": "XX8Ox2W3tzhq",
        "colab": {
          "base_uri": "https://localhost:8080/",
          "height": 532
        },
        "outputId": "6d394d02-8e9c-405f-b876-0036560680a7"
      },
      "source": [
        "df[df[\"tag\"]!='O'][\"tag\"].value_counts().plot(kind=\"bar\", figsize=(15, 8))\n",
        "plt.show()"
      ],
      "execution_count": null,
      "outputs": [
        {
          "output_type": "display_data",
          "data": {
            "image/png": "[encoded data removed]",
            "text/plain": [
              "<Figure size 1080x576 with 1 Axes>"
            ]
          },
          "metadata": {
            "needs_background": "light"
          }
        }
      ]
    },
    {
      "cell_type": "markdown",
      "metadata": {
        "id": "m2MGTObDh2C1"
      },
      "source": [
        "The next step would be to perform the Data engineering. This envolves putting words wich belonging same sentence, separating the target data from the input data, vectorizing the textual data to numerical data, ect... "
      ]
    },
    {
      "cell_type": "code",
      "metadata": {
        "id": "ekbCZNPv11y3"
      },
      "source": [
        "word_count = df.groupby(\"sentence_idx\")[\"word\"].agg([\"count\"])"
      ],
      "execution_count": null,
      "outputs": []
    },
    {
      "cell_type": "code",
      "metadata": {
        "colab": {
          "base_uri": "https://localhost:8080/",
          "height": 499
        },
        "id": "jzbOtvJ72XVK",
        "outputId": "e2d6f8ea-4888-4255-8dc1-67612b4b0c6c"
      },
      "source": [
        "word_count = word_count.rename({'count': 'Word Count'})\n",
        "word_count.hist(bins=50, figsize=(10,8))\n",
        "plt.show()"
      ],
      "execution_count": null,
      "outputs": [
        {
          "output_type": "display_data",
          "data": {
            "image/png": "[encoded data removed]",
            "text/plain": [
              "<Figure size 720x576 with 1 Axes>"
            ]
          },
          "metadata": {
            "needs_background": "light"
          }
        }
      ]
    },
    {
      "cell_type": "code",
      "metadata": {
        "colab": {
          "base_uri": "https://localhost:8080/"
        },
        "id": "2C2UxkSD6Cb7",
        "outputId": "5770f14a-5811-4a4c-c6df-c3680f4d715d"
      },
      "source": [
        "print(\"longest sentence contains {} words \".format(word_count.max()))"
      ],
      "execution_count": null,
      "outputs": [
        {
          "output_type": "stream",
          "name": "stdout",
          "text": [
            "longest sentence contains count    214\n",
            "dtype: int64 words \n"
          ]
        }
      ]
    },
    {
      "cell_type": "markdown",
      "metadata": {
        "id": "Fnb44HJgsJES"
      },
      "source": [
        "### **Use of NLTK library to find the part of speech**\n",
        "\n",
        "\n"
      ]
    },
    {
      "cell_type": "code",
      "metadata": {
        "id": "snjsm7UdsZwA"
      },
      "source": [
        "import nltk \n",
        "from nltk.tokenize import word_tokenize #word tokenizer transform sentences to words  \n",
        "from nltk.probability import FreqDist"
      ],
      "execution_count": null,
      "outputs": []
    },
    {
      "cell_type": "code",
      "metadata": {
        "id": "hl795T4a3_Fa"
      },
      "source": [
        "nltk.download('punkt')"
      ],
      "execution_count": null,
      "outputs": []
    },
    {
      "cell_type": "code",
      "metadata": {
        "id": "a5FAKcF8t-vW"
      },
      "source": [
        "Sentences  = [ ' '.join(str(item) for item in s ) for s in df.groupby(\"sentence_idx\").apply(lambda x : x[\"word\"].tolist())]\n",
        "list_tag  = [ ' '.join(str(item) for item in s ) for s in df.groupby(\"sentence_idx\").apply(lambda x : x[\"tag\"].tolist())]"
      ],
      "execution_count": null,
      "outputs": []
    },
    {
      "cell_type": "code",
      "metadata": {
        "colab": {
          "base_uri": "https://localhost:8080/"
        },
        "id": "IP03zIqN34Pc",
        "outputId": "c1ab898e-ede7-421d-9889-dba2ca01373b"
      },
      "source": [
        "tokenized_word = [word_tokenize(text) for text in Sentences]\n",
        "fdist = FreqDist(tokenized_word[0])\n",
        "fdist.most_common(10)"
      ],
      "execution_count": null,
      "outputs": [
        {
          "output_type": "execute_result",
          "data": {
            "text/plain": [
              "[('customer', 19),\n",
              " ('the', 18),\n",
              " ('System', 11),\n",
              " ('for', 7),\n",
              " (',', 5),\n",
              " ('a', 5),\n",
              " ('and', 5),\n",
              " ('name', 5),\n",
              " ('details', 5),\n",
              " ('case', 4)]"
            ]
          },
          "metadata": {},
          "execution_count": 110
        }
      ]
    },
    {
      "cell_type": "code",
      "metadata": {
        "id": "u-vLkCrl9HFQ"
      },
      "source": [
        " word_tokenize_total = []\n",
        " for sent in tokenized_word:\n",
        "   word_tokenize_total.extend(sent)"
      ],
      "execution_count": null,
      "outputs": []
    },
    {
      "cell_type": "code",
      "metadata": {
        "colab": {
          "base_uri": "https://localhost:8080/",
          "height": 653
        },
        "id": "gKatMEkX908r",
        "outputId": "04f3a018-851a-42ed-938d-a1821493ecb5"
      },
      "source": [
        "fdist = FreqDist(word_tokenize_total)\n",
        "plt.figure(figsize=(15,10))\n",
        "fdist.plot(60, cumulative=False)\n",
        "plt.show()"
      ],
      "execution_count": null,
      "outputs": [
        {
          "output_type": "display_data",
          "data": {
            "image/png": "[encoded data removed]",
            "text/plain": [
              "<Figure size 1080x720 with 1 Axes>"
            ]
          },
          "metadata": {
            "needs_background": "light"
          }
        }
      ]
    },
    {
      "cell_type": "code",
      "metadata": {
        "colab": {
          "base_uri": "https://localhost:8080/"
        },
        "id": "nxBmg9CZAZ4A",
        "outputId": "f93fceeb-7efd-45ad-9681-a8e2d3b4dd1b"
      },
      "source": [
        "from nltk.corpus import stopwords\n",
        "nltk.download('stopwords')\n"
      ],
      "execution_count": null,
      "outputs": [
        {
          "output_type": "stream",
          "name": "stdout",
          "text": [
            "[nltk_data] Downloading package stopwords to /root/nltk_data...\n",
            "[nltk_data]   Package stopwords is already up-to-date!\n"
          ]
        },
        {
          "output_type": "execute_result",
          "data": {
            "text/plain": [
              "True"
            ]
          },
          "metadata": {},
          "execution_count": 113
        }
      ]
    },
    {
      "cell_type": "code",
      "metadata": {
        "id": "DjrZRZyoChiz"
      },
      "source": [
        "stop_words = set(stopwords.words(\"english\"))"
      ],
      "execution_count": null,
      "outputs": []
    },
    {
      "cell_type": "code",
      "metadata": {
        "id": "017NJUALXeUX"
      },
      "source": [
        "text_without_stop_word = [ word for word in word_tokenize_total if word not in stop_words]"
      ],
      "execution_count": null,
      "outputs": []
    },
    {
      "cell_type": "code",
      "metadata": {
        "colab": {
          "base_uri": "https://localhost:8080/",
          "height": 653
        },
        "id": "QzX_MMYDXzwI",
        "outputId": "fc8446d9-2c93-44c2-c9a2-64f75138065b"
      },
      "source": [
        "fdist = FreqDist(text_without_stop_word)\n",
        "plt.figure(figsize=(15,10))\n",
        "fdist.plot(60, cumulative=False)\n",
        "plt.show()"
      ],
      "execution_count": null,
      "outputs": [
        {
          "output_type": "display_data",
          "data": {
            "image/png": "[encoded data removed]",
            "text/plain": [
              "<Figure size 1080x720 with 1 Axes>"
            ]
          },
          "metadata": {
            "needs_background": "light"
          }
        }
      ]
    },
    {
      "cell_type": "markdown",
      "metadata": {
        "id": "549TLomAY0xj"
      },
      "source": [
        "### Part of speech tagging "
      ]
    },
    {
      "cell_type": "code",
      "metadata": {
        "id": "xVvzs9fmZ-2N"
      },
      "source": [
        " nltk.download('averaged_perceptron_tagger')"
      ],
      "execution_count": null,
      "outputs": []
    },
    {
      "cell_type": "code",
      "metadata": {
        "id": "BOoFO8MHYz10"
      },
      "source": [
        "pos_sentence = [nltk.pos_tag(text) for text in tokenized_word]"
      ],
      "execution_count": null,
      "outputs": []
    },
    {
      "cell_type": "code",
      "metadata": {
        "id": "IC13hBbiaCqo"
      },
      "source": [
        "new_dataframe = pd.DataFrame()\n",
        "new_dataframe[\"pos\"] = pos_sentence\n",
        "new_dataframe[\"sentence\"] = [sent.split(' ') for sent in Sentences]\n",
        "new_dataframe[\"tag\"] = [tag.split(' ') for tag in list_tag ]"
      ],
      "execution_count": null,
      "outputs": []
    },
    {
      "cell_type": "code",
      "metadata": {
        "colab": {
          "base_uri": "https://localhost:8080/",
          "height": 419
        },
        "id": "WwUXYyvzbOfa",
        "outputId": "12e5ba7a-33a8-4d2f-8108-7a6efe145178"
      },
      "source": [
        "new_dataframe"
      ],
      "execution_count": null,
      "outputs": [
        {
          "output_type": "execute_result",
          "data": {
            "text/html": [
              "<div>\n",
              "<style scoped>\n",
              "    .dataframe tbody tr th:only-of-type {\n",
              "        vertical-align: middle;\n",
              "    }\n",
              "\n",
              "    .dataframe tbody tr th {\n",
              "        vertical-align: top;\n",
              "    }\n",
              "\n",
              "    .dataframe thead th {\n",
              "        text-align: right;\n",
              "    }\n",
              "</style>\n",
              "<table border=\"1\" class=\"dataframe\">\n",
              "  <thead>\n",
              "    <tr style=\"text-align: right;\">\n",
              "      <th></th>\n",
              "      <th>pos</th>\n",
              "      <th>sentence</th>\n",
              "      <th>tag</th>\n",
              "    </tr>\n",
              "  </thead>\n",
              "  <tbody>\n",
              "    <tr>\n",
              "      <th>0</th>\n",
              "      <td>[(To, TO), (access, NN), (the, DT), (applicati...</td>\n",
              "      <td>[To, access, the, application, from, your, Int...</td>\n",
              "      <td>[O, O, O, O, O, O, O, O, O, O, O, O, O, O, O, ...</td>\n",
              "    </tr>\n",
              "    <tr>\n",
              "      <th>1</th>\n",
              "      <td>[(enedis, NN), (., .), (For, IN), (example, NN...</td>\n",
              "      <td>[enedis, ., For, example, ,, we, speak, of, \"e...</td>\n",
              "      <td>[O, O, O, O, O, O, O, O, O, O, O, O, O, O, O, ...</td>\n",
              "    </tr>\n",
              "    <tr>\n",
              "      <th>2</th>\n",
              "      <td>[(fr, NN), (., .), (This, DT), (case, NN), (wi...</td>\n",
              "      <td>[fr, ., This, case, will, contain, the, flow, ...</td>\n",
              "      <td>[O, O, O, O, O, O, O, O, O, O, O, O, O, O, O, ...</td>\n",
              "    </tr>\n",
              "    <tr>\n",
              "      <th>3</th>\n",
              "      <td>[(It, PRP), (is, VBZ), (recommended, VBN), (to...</td>\n",
              "      <td>[It, is, recommended, to, use, Firefox, ., ., ...</td>\n",
              "      <td>[O, O, O, O, O, O, O, O, O, O, O, O, O, O, O, ...</td>\n",
              "    </tr>\n",
              "    <tr>\n",
              "      <th>4</th>\n",
              "      <td>[(you, PRP), (can, MD), (access, NN), (ePURE, ...</td>\n",
              "      <td>[you, can, access, ePURE, only, through, the, ...</td>\n",
              "      <td>[O, O, O, O, O, O, O, O, O, O, O, O, O, O, O, ...</td>\n",
              "    </tr>\n",
              "    <tr>\n",
              "      <th>...</th>\n",
              "      <td>...</td>\n",
              "      <td>...</td>\n",
              "      <td>...</td>\n",
              "    </tr>\n",
              "    <tr>\n",
              "      <th>184</th>\n",
              "      <td>[(You, PRP), (can, MD), (choose, VB), (the, DT...</td>\n",
              "      <td>[You, can, choose, the, desired, period, by, c...</td>\n",
              "      <td>[O, O, B_E, B_DG, B_DG, I_DG, O, O, O, O, O, O...</td>\n",
              "    </tr>\n",
              "    <tr>\n",
              "      <th>185</th>\n",
              "      <td>[(A, DT), (calendar, NN), (allows, VBZ), (you,...</td>\n",
              "      <td>[A, calendar, allows, you, to, choose, the, ye...</td>\n",
              "      <td>[O, O, O, O, O, O, B_DG, I_DG, I_DG, I_DG, I_D...</td>\n",
              "    </tr>\n",
              "    <tr>\n",
              "      <th>186</th>\n",
              "      <td>[(A, DT), (button, NN), (“, NNP), (Reinitializ...</td>\n",
              "      <td>[A, button, “Reinitialize, filters”, allows, y...</td>\n",
              "      <td>[O, O, O, O, O, O, B_W, I_W, B_DG, I_DG, O, O,...</td>\n",
              "    </tr>\n",
              "    <tr>\n",
              "      <th>187</th>\n",
              "      <td>[(The, DT), (selection, NN), (of, IN), (the, D...</td>\n",
              "      <td>[The, selection, of, the, entity, and, the, pe...</td>\n",
              "      <td>[O, O, O, O, O, O, O, O, O, O, O]</td>\n",
              "    </tr>\n",
              "    <tr>\n",
              "      <th>188</th>\n",
              "      <td>[(When, WRB), (you, PRP), (navigate, VBP), (fr...</td>\n",
              "      <td>[When, you, navigate, from, one, page, to, ano...</td>\n",
              "      <td>[O, O, O, O, O, O, O, O, O, O, O, O, O, O, O, ...</td>\n",
              "    </tr>\n",
              "  </tbody>\n",
              "</table>\n",
              "<p>189 rows × 3 columns</p>\n",
              "</div>"
            ],
            "text/plain": [
              "                                                   pos  ...                                                tag\n",
              "0    [(To, TO), (access, NN), (the, DT), (applicati...  ...  [O, O, O, O, O, O, O, O, O, O, O, O, O, O, O, ...\n",
              "1    [(enedis, NN), (., .), (For, IN), (example, NN...  ...  [O, O, O, O, O, O, O, O, O, O, O, O, O, O, O, ...\n",
              "2    [(fr, NN), (., .), (This, DT), (case, NN), (wi...  ...  [O, O, O, O, O, O, O, O, O, O, O, O, O, O, O, ...\n",
              "3    [(It, PRP), (is, VBZ), (recommended, VBN), (to...  ...  [O, O, O, O, O, O, O, O, O, O, O, O, O, O, O, ...\n",
              "4    [(you, PRP), (can, MD), (access, NN), (ePURE, ...  ...  [O, O, O, O, O, O, O, O, O, O, O, O, O, O, O, ...\n",
              "..                                                 ...  ...                                                ...\n",
              "184  [(You, PRP), (can, MD), (choose, VB), (the, DT...  ...  [O, O, B_E, B_DG, B_DG, I_DG, O, O, O, O, O, O...\n",
              "185  [(A, DT), (calendar, NN), (allows, VBZ), (you,...  ...  [O, O, O, O, O, O, B_DG, I_DG, I_DG, I_DG, I_D...\n",
              "186  [(A, DT), (button, NN), (“, NNP), (Reinitializ...  ...  [O, O, O, O, O, O, B_W, I_W, B_DG, I_DG, O, O,...\n",
              "187  [(The, DT), (selection, NN), (of, IN), (the, D...  ...                  [O, O, O, O, O, O, O, O, O, O, O]\n",
              "188  [(When, WRB), (you, PRP), (navigate, VBP), (fr...  ...  [O, O, O, O, O, O, O, O, O, O, O, O, O, O, O, ...\n",
              "\n",
              "[189 rows x 3 columns]"
            ]
          },
          "metadata": {},
          "execution_count": 164
        }
      ]
    },
    {
      "cell_type": "code",
      "metadata": {
        "colab": {
          "base_uri": "https://localhost:8080/"
        },
        "id": "AuhD0b1D5d53",
        "outputId": "7d1371e0-63c5-4348-e4dc-b617f6c9d754"
      },
      "source": [
        "for elm in all_words:\n",
        "  if elm =='To':\n",
        "    print(elm) "
      ],
      "execution_count": null,
      "outputs": [
        {
          "output_type": "stream",
          "name": "stdout",
          "text": [
            "To\n"
          ]
        }
      ]
    },
    {
      "cell_type": "code",
      "metadata": {
        "id": "i1_mDNcr3qjS"
      },
      "source": [
        "from collections import defaultdict"
      ],
      "execution_count": null,
      "outputs": []
    },
    {
      "cell_type": "code",
      "metadata": {
        "id": "4xSY711ChTC0"
      },
      "source": [
        "all_words = list(set(df[\"word\"]))\n",
        "all_tag = list(set(df[\"tag\"]))\n",
        "\n",
        "\n",
        "word2index = defaultdict(lambda : 0)\n",
        "tag2index = defaultdict(lambda : 0)\n",
        "for idx, word  in enumerate(all_words) :\n",
        "  word2index[word] = idx+2 \n",
        "\n",
        "for idx, tag in enumerate(all_words):\n",
        "    tag2index[tag] = idx+1\n",
        "\n",
        "word2index[\"--PADDING--\"] = 1\n",
        "tag2index[\"--PADDING--\"] = 1"
      ],
      "execution_count": null,
      "outputs": []
    },
    {
      "cell_type": "code",
      "metadata": {
        "id": "rinxKRJRyMFk"
      },
      "source": [
        "X_data = [ [word2index[word] for word in sent] for sent in new_dataframe[\"sentence\"]]\n",
        "Y_data = [[tag2index[tag] for tag in tags] for tags in new_dataframe[\"tag\"]]"
      ],
      "execution_count": null,
      "outputs": []
    },
    {
      "cell_type": "markdown",
      "metadata": {
        "id": "krJzp4sU89g3"
      },
      "source": [
        "###### **Since the LSTM model is expecting a fixed sized input, we will modify both X_data and Y_data to account for this** . We will make use of the PADDING .\n",
        "\n",
        "\n"
      ]
    },
    {
      "cell_type": "code",
      "metadata": {
        "id": "-80n7kQ3AMb6"
      },
      "source": [
        "MAX_SENTENCE= max(len(sentence) for sentence in X_data )"
      ],
      "execution_count": null,
      "outputs": []
    },
    {
      "cell_type": "code",
      "metadata": {
        "id": "2CvObOab88Gv"
      },
      "source": [
        "X = [sentence + [word2index[\"--PADDING--\"]]*(MAX_SENTENCE-len(sentence)) for sentence in X_data]\n",
        "Y = [sentence + [tag2index[\"--PADDING--\"]]*(MAX_SENTENCE-len(sentence)) for sentence in Y_data]"
      ],
      "execution_count": null,
      "outputs": []
    },
    {
      "cell_type": "markdown",
      "metadata": {
        "id": "ZQWLVoXUhCIQ"
      },
      "source": [
        "### **2- feature engineering**\n",
        "To perform the feature engineering, we use the Dataset class .  "
      ]
    },
    {
      "cell_type": "code",
      "metadata": {
        "id": "XtmlpEJbnr_Z"
      },
      "source": [
        "class Dataset:\n",
        "  def __init__(self, dataset):\n",
        "      self.dataset = dataset \n",
        "      self.n_sentence = 1\n",
        "      self.labels = self.dataset[\"tag\"]\n",
        "      funct = lambda s : [ [w, p, t] for w, p, t in zip(s[\"word\"].values.tolist(), s[\"pos\"].values.tolist(), s[\"tag\"].values.tolist())]\n",
        "      self.group = self.dataset.groupby(\"sentence_idx\").apply(funct)\n",
        "      self.sentences = [s for s in self.group]\n",
        "      \n",
        "  def get_next_sentence(self, index):\n",
        "      next_sent = self.group_data[index]\n",
        "      self.n_sentence +=1 \n",
        "      return next_sent \n"
      ],
      "execution_count": null,
      "outputs": []
    },
    {
      "cell_type": "code",
      "metadata": {
        "id": "EkpexSirtWoH"
      },
      "source": [
        "data = Dataset(df)  "
      ],
      "execution_count": null,
      "outputs": []
    },
    {
      "cell_type": "code",
      "metadata": {
        "id": "9ILurAAF2l4T"
      },
      "source": [
        "list_tag = list(set(data.labels))\n",
        "sentences = [' '.join([s[0] for s in sent]) for sent in data.sentences]\n",
        "tag2idx = {t : i for i, t in enumerate(list_tag)}\n",
        "labels = [ [tag2idx[s[2]] for s in sent] for sent in data.sentences]"
      ],
      "execution_count": null,
      "outputs": []
    },
    {
      "cell_type": "markdown",
      "metadata": {
        "id": "TV3LP4HPEysr"
      },
      "source": [
        "### **Preparing the Dataset and the Dataloader** \n",
        "\n",
        "Dataset and Dataloader are constructs of pytorch library . Dataset is used to perform some processing on the data before sending it to the model . Dataloader allows the data to be sent in batches in the model for training performances.  \n",
        "We will define the Dataset class which takes `tokenizer`, `sentences`, `labels` as inputs and outputs tokenized sentences and tags, that are used to train the model. \n"
      ]
    },
    {
      "cell_type": "code",
      "metadata": {
        "id": "NaT5N88urgU7"
      },
      "source": [
        "!pip install transformers "
      ],
      "execution_count": null,
      "outputs": []
    },
    {
      "cell_type": "code",
      "metadata": {
        "id": "OM-xE9Z6reVl"
      },
      "source": [
        "import numpy as np \n",
        "import pandas as pd  \n",
        "import transformers \n",
        "from torch.utils.data import Dataset, DataLoader, RandomSampler, SequentialSampler \n",
        "from transformers import BertForTokenClassification, BertTokenizer, BertConfig, BertModel "
      ],
      "execution_count": null,
      "outputs": []
    },
    {
      "cell_type": "code",
      "metadata": {
        "id": "wuPh0DUBrmax"
      },
      "source": [
        "!pip install torch\n",
        "!pip install cloud-tpu-client==0.10 https://storage.googleapis.com/tpu-pytorch/wheels/torch_xla-1.9-cp37-cp37m-linux_x86_64.whl"
      ],
      "execution_count": null,
      "outputs": []
    },
    {
      "cell_type": "markdown",
      "metadata": {
        "id": "eaJmebOJHYr9"
      },
      "source": [
        "#### We will make use of torch_xla, which allows computation in the TPU . "
      ]
    },
    {
      "cell_type": "code",
      "metadata": {
        "id": "EVtlc2AVrNXt",
        "colab": {
          "base_uri": "https://localhost:8080/"
        },
        "outputId": "3c002bd3-d943-42ac-d8d3-ed92504d34eb"
      },
      "source": [
        "import torch\n",
        "import torch_xla\n",
        "import torch_xla.core.xla_model as xm\n",
        "from sklearn.model_selection import train_test_split "
      ],
      "execution_count": null,
      "outputs": [
        {
          "output_type": "stream",
          "text": [
            "WARNING:root:Waiting for TPU to be start up with version pytorch-1.9...\n",
            "WARNING:root:Waiting for TPU to be start up with version pytorch-1.9...\n",
            "WARNING:root:TPU has started up successfully with version pytorch-1.9\n"
          ],
          "name": "stderr"
        }
      ]
    },
    {
      "cell_type": "markdown",
      "metadata": {
        "id": "cyiaSao89KKA"
      },
      "source": [
        " #### **Dataset Class** \n",
        "- the Dataset class takes as input `tokenizer`, `sentences`, `labels`  and tokenizes the sentences .\n",
        "- We use BertTokenizer to tokenize the sentences to [ids] and [mask] for encoding. \n",
        "- the tokenizer uses encode_plus to tokenize the data . \n",
        "\n",
        "*Dataloader*\n",
        "The dataloader is used to divide the dataset into batches, that are loaded into a variable. To do so, we use 2 variables: `bach_size` and `max_size`. \n"
      ]
    },
    {
      "cell_type": "code",
      "metadata": {
        "id": "5KKZ0B64NMVU"
      },
      "source": [
        "class CustomDataset(Dataset):\n",
        "  def __init__(self, tokenizer, sentences, labels, max_len=100):\n",
        "    self.tokenizer = tokenizer \n",
        "    self.sentences = sentences\n",
        "    self.labels = labels\n",
        "    self.max_len = max_len \n",
        "    self.len = len(self.sentences)\n",
        "\n",
        "  def __getitem__(self, index):\n",
        "\n",
        "    sentence = str(self.sentences[index])\n",
        "    tokenized = self.tokenizer.encode_plus(\n",
        "        sentence,\n",
        "        add_special_tokens =True,\n",
        "        truncation = True, \n",
        "        max_length = self.max_len, \n",
        "        padding = 'max_length',\n",
        "        return_token_type_ids = True \n",
        "    )\n",
        "    \n",
        "    ids = tokenized[\"input_ids\"]\n",
        "    mask = tokenized[\"attention_mask\"]\n",
        "    labels = self.labels[index]\n",
        "    labels.extend([0]*max_len)\n",
        "    labels = labels[:max_len]\n",
        "\n",
        "    return {'ids':torch.tensor(ids, dtype = torch.long), 'mask':torch.tensor(mask, dtype = torch.long),\n",
        "            'tags':torch.tensor(labels, dtype = torch.long)}\n",
        "  \n",
        "  def __len__ (self):\n",
        "    return self.len "
      ],
      "execution_count": null,
      "outputs": []
    },
    {
      "cell_type": "code",
      "metadata": {
        "id": "mrPxJS28rrNX",
        "colab": {
          "base_uri": "https://localhost:8080/",
          "height": 77,
          "referenced_widgets": [
            "796db8df9d9b4caba69429322e0501df",
            "7c7d2771ec0e4072a2a916f5592aec65",
            "98a7f6129c504dd4bbf0fd4846171af2",
            "3f3d7922c429433e9dff690e3ff3ed7c",
            "fa6032b0ef064e88b5de35ff88939005",
            "f8383ac2ac694adb9138a939d3f19f97",
            "28d57932ea3c43768498d5cf79efbddb",
            "725e51c827cb4ab5818ea96c7eb753ce",
            "ccd85f9584514da495da9191a276e4fa",
            "fa7671c765174eec83dfec54eb55b093",
            "2b1b1dcd9c194d0c91a044ea786bf664"
          ]
        },
        "outputId": "b0c9cf2b-a7cd-4974-c94a-55eecbedca90"
      },
      "source": [
        "### Constant variables\n",
        "\n",
        "max_len = 100\n",
        "train_batch_size = test_batch_size = 20 \n",
        "data_size = len(sentences)\n",
        "tokenizer = BertTokenizer.from_pretrained('bert-base-cased', do_lower_case=True)"
      ],
      "execution_count": null,
      "outputs": [
        {
          "output_type": "display_data",
          "data": {
            "application/vnd.jupyter.widget-view+json": {
              "model_id": "796db8df9d9b4caba69429322e0501df",
              "version_minor": 0,
              "version_major": 2
            },
            "text/plain": [
              "Downloading:   0%|          | 0.00/213k [00:00<?, ?B/s]"
            ]
          },
          "metadata": {}
        }
      ]
    },
    {
      "cell_type": "markdown",
      "metadata": {
        "id": "AvzA3Wj2ekCi"
      },
      "source": [
        "### **Training** set and **Testing** set"
      ]
    },
    {
      "cell_type": "code",
      "metadata": {
        "id": "i9C7PMSztixI"
      },
      "source": [
        "train_sentences, test_sentences, train_labels, test_labels = train_test_split(sentences, labels, test_size=0.2, random_state=2021)\n",
        "train_data = CustomDataset(tokenizer, train_sentences, train_labels, max_len)\n",
        "test_data  = CustomDataset(tokenizer, test_sentences, test_labels, max_len)\n",
        "train_sampler = RandomSampler(train_data)\n",
        "test_sampler = RandomSampler(test_data)\n",
        "bs=20"
      ],
      "execution_count": null,
      "outputs": []
    },
    {
      "cell_type": "markdown",
      "metadata": {
        "id": "Y6T-iqkK01Fg"
      },
      "source": [
        "####**Dataloader**"
      ]
    },
    {
      "cell_type": "code",
      "metadata": {
        "id": "JQBosw4A2JD_"
      },
      "source": [
        "train_dataloader = DataLoader(train_data, batch_size=bs, sampler =train_sampler)\n",
        "test_dataloader  = DataLoader(test_data, batch_size=bs, sampler= test_sampler)"
      ],
      "execution_count": null,
      "outputs": []
    },
    {
      "cell_type": "markdown",
      "metadata": {
        "id": "CUTKV5xq5rcD"
      },
      "source": [
        "\n",
        "\n",
        "```\n",
        "# This is formatted as code\n",
        "```\n",
        "\n",
        "### **4-Model building**"
      ]
    },
    {
      "cell_type": "code",
      "metadata": {
        "id": "VJJLfO-OGnkg"
      },
      "source": [
        "import torch.nn as nn"
      ],
      "execution_count": null,
      "outputs": []
    },
    {
      "cell_type": "code",
      "metadata": {
        "id": "lJCETE7S6GQU"
      },
      "source": [
        "class BertClass(nn.Module): \n",
        "  def __init__(self, list_tag):\n",
        "      # first layer of the bert model \n",
        "      super(BertClass, self).__init__()\n",
        "      self.l1 = BertForTokenClassification.from_pretrained('bert-base-cased', num_labels = len(tag2idx)) \n",
        "      # self.Dropout = nn.Dropout(0.2)\n",
        "      # self.fc1 = nn.Linear(784, 200)\n",
        "      # self.fc2 = nn.Linear(200, 100)\n",
        "      # self.fc3 = nn.Linear(100, len(list_tag))\n",
        "  \n",
        "  def forward(self, ids, mask, labels): \n",
        "      x = self.l1(ids, mask, labels=labels)\n",
        "      # x=  self.Dropout(x)\n",
        "      # x = self.fc1(x)\n",
        "      # x=  self.fc2(x)\n",
        "      # x = self.fc3(x) \n",
        "      return x \n",
        "      \n"
      ],
      "execution_count": null,
      "outputs": []
    },
    {
      "cell_type": "code",
      "metadata": {
        "id": "wxBnRlJJQ3rq"
      },
      "source": [
        "### to perform computations of the model on the TPU \n",
        "dev = xm.xla_device()"
      ],
      "execution_count": null,
      "outputs": []
    },
    {
      "cell_type": "code",
      "metadata": {
        "id": "MZ2oahVeHJUT",
        "colab": {
          "base_uri": "https://localhost:8080/",
          "height": 1000,
          "referenced_widgets": [
            "8939f9c5259848da84beb55e064e6e5c",
            "fa5685dfe3f44380b44bbe124e284486",
            "1ede26d38c074f228485f6396257fdeb",
            "72827ebfbf7d4ce592303c2224a21dbe",
            "ea6b2a7ac6114922b9e652b12031fae7",
            "4d17d8588bd548e3a61c698140dc3421",
            "d58cc94a065a4ad3bba92214d688b7ea",
            "85d2c25a19894a8ebc587370b06be710",
            "7f46409892194095ba78843ee3d6bc97",
            "983f888772bd4a06bb19486fceadd7e1",
            "4f4c2ba5393643a8ac4a29a3f5a1f55a",
            "4fd258409dc244e99fe911b3a32ce463",
            "b926956dfa744e4e9a2f235a9d61eb95",
            "80f4981ac26f47d3ac41583124710943",
            "2caf3a801d2d401491a556a70979ea1f",
            "4f0c52d2d0314cf390640572615e3a78",
            "1df1eaa4c608418fa1d280bb61fd3ee0",
            "691de294c0b9487790589cb28a0ba1d1",
            "f3c0e0d633144cbdaecad1bd72934390",
            "bcc69025d5804810b47ceb806ea7d513",
            "2fd53fce8062444cbfff5da73293639e",
            "c84575afb0f049c88fd3c1d0817d2a02"
          ]
        },
        "outputId": "264669f6-2f8f-4f39-c8e4-195d653bce7b"
      },
      "source": [
        "model = BertClass(list_tag)\n",
        "model.to(dev)"
      ],
      "execution_count": null,
      "outputs": [
        {
          "output_type": "display_data",
          "data": {
            "application/vnd.jupyter.widget-view+json": {
              "model_id": "8939f9c5259848da84beb55e064e6e5c",
              "version_minor": 0,
              "version_major": 2
            },
            "text/plain": [
              "Downloading:   0%|          | 0.00/570 [00:00<?, ?B/s]"
            ]
          },
          "metadata": {}
        },
        {
          "output_type": "display_data",
          "data": {
            "application/vnd.jupyter.widget-view+json": {
              "model_id": "4fd258409dc244e99fe911b3a32ce463",
              "version_minor": 0,
              "version_major": 2
            },
            "text/plain": [
              "Downloading:   0%|          | 0.00/436M [00:00<?, ?B/s]"
            ]
          },
          "metadata": {}
        },
        {
          "output_type": "stream",
          "text": [
            "Some weights of the model checkpoint at bert-base-cased were not used when initializing BertForTokenClassification: ['cls.predictions.bias', 'cls.predictions.transform.dense.weight', 'cls.predictions.transform.dense.bias', 'cls.predictions.decoder.weight', 'cls.seq_relationship.weight', 'cls.seq_relationship.bias', 'cls.predictions.transform.LayerNorm.weight', 'cls.predictions.transform.LayerNorm.bias']\n",
            "- This IS expected if you are initializing BertForTokenClassification from the checkpoint of a model trained on another task or with another architecture (e.g. initializing a BertForSequenceClassification model from a BertForPreTraining model).\n",
            "- This IS NOT expected if you are initializing BertForTokenClassification from the checkpoint of a model that you expect to be exactly identical (initializing a BertForSequenceClassification model from a BertForSequenceClassification model).\n",
            "Some weights of BertForTokenClassification were not initialized from the model checkpoint at bert-base-cased and are newly initialized: ['classifier.weight', 'classifier.bias']\n",
            "You should probably TRAIN this model on a down-stream task to be able to use it for predictions and inference.\n"
          ],
          "name": "stderr"
        },
        {
          "output_type": "execute_result",
          "data": {
            "text/plain": [
              "BertClass(\n",
              "  (l1): BertForTokenClassification(\n",
              "    (bert): BertModel(\n",
              "      (embeddings): BertEmbeddings(\n",
              "        (word_embeddings): Embedding(28996, 768, padding_idx=0)\n",
              "        (position_embeddings): Embedding(512, 768)\n",
              "        (token_type_embeddings): Embedding(2, 768)\n",
              "        (LayerNorm): LayerNorm((768,), eps=1e-12, elementwise_affine=True)\n",
              "        (dropout): Dropout(p=0.1, inplace=False)\n",
              "      )\n",
              "      (encoder): BertEncoder(\n",
              "        (layer): ModuleList(\n",
              "          (0): BertLayer(\n",
              "            (attention): BertAttention(\n",
              "              (self): BertSelfAttention(\n",
              "                (query): Linear(in_features=768, out_features=768, bias=True)\n",
              "                (key): Linear(in_features=768, out_features=768, bias=True)\n",
              "                (value): Linear(in_features=768, out_features=768, bias=True)\n",
              "                (dropout): Dropout(p=0.1, inplace=False)\n",
              "              )\n",
              "              (output): BertSelfOutput(\n",
              "                (dense): Linear(in_features=768, out_features=768, bias=True)\n",
              "                (LayerNorm): LayerNorm((768,), eps=1e-12, elementwise_affine=True)\n",
              "                (dropout): Dropout(p=0.1, inplace=False)\n",
              "              )\n",
              "            )\n",
              "            (intermediate): BertIntermediate(\n",
              "              (dense): Linear(in_features=768, out_features=3072, bias=True)\n",
              "            )\n",
              "            (output): BertOutput(\n",
              "              (dense): Linear(in_features=3072, out_features=768, bias=True)\n",
              "              (LayerNorm): LayerNorm((768,), eps=1e-12, elementwise_affine=True)\n",
              "              (dropout): Dropout(p=0.1, inplace=False)\n",
              "            )\n",
              "          )\n",
              "          (1): BertLayer(\n",
              "            (attention): BertAttention(\n",
              "              (self): BertSelfAttention(\n",
              "                (query): Linear(in_features=768, out_features=768, bias=True)\n",
              "                (key): Linear(in_features=768, out_features=768, bias=True)\n",
              "                (value): Linear(in_features=768, out_features=768, bias=True)\n",
              "                (dropout): Dropout(p=0.1, inplace=False)\n",
              "              )\n",
              "              (output): BertSelfOutput(\n",
              "                (dense): Linear(in_features=768, out_features=768, bias=True)\n",
              "                (LayerNorm): LayerNorm((768,), eps=1e-12, elementwise_affine=True)\n",
              "                (dropout): Dropout(p=0.1, inplace=False)\n",
              "              )\n",
              "            )\n",
              "            (intermediate): BertIntermediate(\n",
              "              (dense): Linear(in_features=768, out_features=3072, bias=True)\n",
              "            )\n",
              "            (output): BertOutput(\n",
              "              (dense): Linear(in_features=3072, out_features=768, bias=True)\n",
              "              (LayerNorm): LayerNorm((768,), eps=1e-12, elementwise_affine=True)\n",
              "              (dropout): Dropout(p=0.1, inplace=False)\n",
              "            )\n",
              "          )\n",
              "          (2): BertLayer(\n",
              "            (attention): BertAttention(\n",
              "              (self): BertSelfAttention(\n",
              "                (query): Linear(in_features=768, out_features=768, bias=True)\n",
              "                (key): Linear(in_features=768, out_features=768, bias=True)\n",
              "                (value): Linear(in_features=768, out_features=768, bias=True)\n",
              "                (dropout): Dropout(p=0.1, inplace=False)\n",
              "              )\n",
              "              (output): BertSelfOutput(\n",
              "                (dense): Linear(in_features=768, out_features=768, bias=True)\n",
              "                (LayerNorm): LayerNorm((768,), eps=1e-12, elementwise_affine=True)\n",
              "                (dropout): Dropout(p=0.1, inplace=False)\n",
              "              )\n",
              "            )\n",
              "            (intermediate): BertIntermediate(\n",
              "              (dense): Linear(in_features=768, out_features=3072, bias=True)\n",
              "            )\n",
              "            (output): BertOutput(\n",
              "              (dense): Linear(in_features=3072, out_features=768, bias=True)\n",
              "              (LayerNorm): LayerNorm((768,), eps=1e-12, elementwise_affine=True)\n",
              "              (dropout): Dropout(p=0.1, inplace=False)\n",
              "            )\n",
              "          )\n",
              "          (3): BertLayer(\n",
              "            (attention): BertAttention(\n",
              "              (self): BertSelfAttention(\n",
              "                (query): Linear(in_features=768, out_features=768, bias=True)\n",
              "                (key): Linear(in_features=768, out_features=768, bias=True)\n",
              "                (value): Linear(in_features=768, out_features=768, bias=True)\n",
              "                (dropout): Dropout(p=0.1, inplace=False)\n",
              "              )\n",
              "              (output): BertSelfOutput(\n",
              "                (dense): Linear(in_features=768, out_features=768, bias=True)\n",
              "                (LayerNorm): LayerNorm((768,), eps=1e-12, elementwise_affine=True)\n",
              "                (dropout): Dropout(p=0.1, inplace=False)\n",
              "              )\n",
              "            )\n",
              "            (intermediate): BertIntermediate(\n",
              "              (dense): Linear(in_features=768, out_features=3072, bias=True)\n",
              "            )\n",
              "            (output): BertOutput(\n",
              "              (dense): Linear(in_features=3072, out_features=768, bias=True)\n",
              "              (LayerNorm): LayerNorm((768,), eps=1e-12, elementwise_affine=True)\n",
              "              (dropout): Dropout(p=0.1, inplace=False)\n",
              "            )\n",
              "          )\n",
              "          (4): BertLayer(\n",
              "            (attention): BertAttention(\n",
              "              (self): BertSelfAttention(\n",
              "                (query): Linear(in_features=768, out_features=768, bias=True)\n",
              "                (key): Linear(in_features=768, out_features=768, bias=True)\n",
              "                (value): Linear(in_features=768, out_features=768, bias=True)\n",
              "                (dropout): Dropout(p=0.1, inplace=False)\n",
              "              )\n",
              "              (output): BertSelfOutput(\n",
              "                (dense): Linear(in_features=768, out_features=768, bias=True)\n",
              "                (LayerNorm): LayerNorm((768,), eps=1e-12, elementwise_affine=True)\n",
              "                (dropout): Dropout(p=0.1, inplace=False)\n",
              "              )\n",
              "            )\n",
              "            (intermediate): BertIntermediate(\n",
              "              (dense): Linear(in_features=768, out_features=3072, bias=True)\n",
              "            )\n",
              "            (output): BertOutput(\n",
              "              (dense): Linear(in_features=3072, out_features=768, bias=True)\n",
              "              (LayerNorm): LayerNorm((768,), eps=1e-12, elementwise_affine=True)\n",
              "              (dropout): Dropout(p=0.1, inplace=False)\n",
              "            )\n",
              "          )\n",
              "          (5): BertLayer(\n",
              "            (attention): BertAttention(\n",
              "              (self): BertSelfAttention(\n",
              "                (query): Linear(in_features=768, out_features=768, bias=True)\n",
              "                (key): Linear(in_features=768, out_features=768, bias=True)\n",
              "                (value): Linear(in_features=768, out_features=768, bias=True)\n",
              "                (dropout): Dropout(p=0.1, inplace=False)\n",
              "              )\n",
              "              (output): BertSelfOutput(\n",
              "                (dense): Linear(in_features=768, out_features=768, bias=True)\n",
              "                (LayerNorm): LayerNorm((768,), eps=1e-12, elementwise_affine=True)\n",
              "                (dropout): Dropout(p=0.1, inplace=False)\n",
              "              )\n",
              "            )\n",
              "            (intermediate): BertIntermediate(\n",
              "              (dense): Linear(in_features=768, out_features=3072, bias=True)\n",
              "            )\n",
              "            (output): BertOutput(\n",
              "              (dense): Linear(in_features=3072, out_features=768, bias=True)\n",
              "              (LayerNorm): LayerNorm((768,), eps=1e-12, elementwise_affine=True)\n",
              "              (dropout): Dropout(p=0.1, inplace=False)\n",
              "            )\n",
              "          )\n",
              "          (6): BertLayer(\n",
              "            (attention): BertAttention(\n",
              "              (self): BertSelfAttention(\n",
              "                (query): Linear(in_features=768, out_features=768, bias=True)\n",
              "                (key): Linear(in_features=768, out_features=768, bias=True)\n",
              "                (value): Linear(in_features=768, out_features=768, bias=True)\n",
              "                (dropout): Dropout(p=0.1, inplace=False)\n",
              "              )\n",
              "              (output): BertSelfOutput(\n",
              "                (dense): Linear(in_features=768, out_features=768, bias=True)\n",
              "                (LayerNorm): LayerNorm((768,), eps=1e-12, elementwise_affine=True)\n",
              "                (dropout): Dropout(p=0.1, inplace=False)\n",
              "              )\n",
              "            )\n",
              "            (intermediate): BertIntermediate(\n",
              "              (dense): Linear(in_features=768, out_features=3072, bias=True)\n",
              "            )\n",
              "            (output): BertOutput(\n",
              "              (dense): Linear(in_features=3072, out_features=768, bias=True)\n",
              "              (LayerNorm): LayerNorm((768,), eps=1e-12, elementwise_affine=True)\n",
              "              (dropout): Dropout(p=0.1, inplace=False)\n",
              "            )\n",
              "          )\n",
              "          (7): BertLayer(\n",
              "            (attention): BertAttention(\n",
              "              (self): BertSelfAttention(\n",
              "                (query): Linear(in_features=768, out_features=768, bias=True)\n",
              "                (key): Linear(in_features=768, out_features=768, bias=True)\n",
              "                (value): Linear(in_features=768, out_features=768, bias=True)\n",
              "                (dropout): Dropout(p=0.1, inplace=False)\n",
              "              )\n",
              "              (output): BertSelfOutput(\n",
              "                (dense): Linear(in_features=768, out_features=768, bias=True)\n",
              "                (LayerNorm): LayerNorm((768,), eps=1e-12, elementwise_affine=True)\n",
              "                (dropout): Dropout(p=0.1, inplace=False)\n",
              "              )\n",
              "            )\n",
              "            (intermediate): BertIntermediate(\n",
              "              (dense): Linear(in_features=768, out_features=3072, bias=True)\n",
              "            )\n",
              "            (output): BertOutput(\n",
              "              (dense): Linear(in_features=3072, out_features=768, bias=True)\n",
              "              (LayerNorm): LayerNorm((768,), eps=1e-12, elementwise_affine=True)\n",
              "              (dropout): Dropout(p=0.1, inplace=False)\n",
              "            )\n",
              "          )\n",
              "          (8): BertLayer(\n",
              "            (attention): BertAttention(\n",
              "              (self): BertSelfAttention(\n",
              "                (query): Linear(in_features=768, out_features=768, bias=True)\n",
              "                (key): Linear(in_features=768, out_features=768, bias=True)\n",
              "                (value): Linear(in_features=768, out_features=768, bias=True)\n",
              "                (dropout): Dropout(p=0.1, inplace=False)\n",
              "              )\n",
              "              (output): BertSelfOutput(\n",
              "                (dense): Linear(in_features=768, out_features=768, bias=True)\n",
              "                (LayerNorm): LayerNorm((768,), eps=1e-12, elementwise_affine=True)\n",
              "                (dropout): Dropout(p=0.1, inplace=False)\n",
              "              )\n",
              "            )\n",
              "            (intermediate): BertIntermediate(\n",
              "              (dense): Linear(in_features=768, out_features=3072, bias=True)\n",
              "            )\n",
              "            (output): BertOutput(\n",
              "              (dense): Linear(in_features=3072, out_features=768, bias=True)\n",
              "              (LayerNorm): LayerNorm((768,), eps=1e-12, elementwise_affine=True)\n",
              "              (dropout): Dropout(p=0.1, inplace=False)\n",
              "            )\n",
              "          )\n",
              "          (9): BertLayer(\n",
              "            (attention): BertAttention(\n",
              "              (self): BertSelfAttention(\n",
              "                (query): Linear(in_features=768, out_features=768, bias=True)\n",
              "                (key): Linear(in_features=768, out_features=768, bias=True)\n",
              "                (value): Linear(in_features=768, out_features=768, bias=True)\n",
              "                (dropout): Dropout(p=0.1, inplace=False)\n",
              "              )\n",
              "              (output): BertSelfOutput(\n",
              "                (dense): Linear(in_features=768, out_features=768, bias=True)\n",
              "                (LayerNorm): LayerNorm((768,), eps=1e-12, elementwise_affine=True)\n",
              "                (dropout): Dropout(p=0.1, inplace=False)\n",
              "              )\n",
              "            )\n",
              "            (intermediate): BertIntermediate(\n",
              "              (dense): Linear(in_features=768, out_features=3072, bias=True)\n",
              "            )\n",
              "            (output): BertOutput(\n",
              "              (dense): Linear(in_features=3072, out_features=768, bias=True)\n",
              "              (LayerNorm): LayerNorm((768,), eps=1e-12, elementwise_affine=True)\n",
              "              (dropout): Dropout(p=0.1, inplace=False)\n",
              "            )\n",
              "          )\n",
              "          (10): BertLayer(\n",
              "            (attention): BertAttention(\n",
              "              (self): BertSelfAttention(\n",
              "                (query): Linear(in_features=768, out_features=768, bias=True)\n",
              "                (key): Linear(in_features=768, out_features=768, bias=True)\n",
              "                (value): Linear(in_features=768, out_features=768, bias=True)\n",
              "                (dropout): Dropout(p=0.1, inplace=False)\n",
              "              )\n",
              "              (output): BertSelfOutput(\n",
              "                (dense): Linear(in_features=768, out_features=768, bias=True)\n",
              "                (LayerNorm): LayerNorm((768,), eps=1e-12, elementwise_affine=True)\n",
              "                (dropout): Dropout(p=0.1, inplace=False)\n",
              "              )\n",
              "            )\n",
              "            (intermediate): BertIntermediate(\n",
              "              (dense): Linear(in_features=768, out_features=3072, bias=True)\n",
              "            )\n",
              "            (output): BertOutput(\n",
              "              (dense): Linear(in_features=3072, out_features=768, bias=True)\n",
              "              (LayerNorm): LayerNorm((768,), eps=1e-12, elementwise_affine=True)\n",
              "              (dropout): Dropout(p=0.1, inplace=False)\n",
              "            )\n",
              "          )\n",
              "          (11): BertLayer(\n",
              "            (attention): BertAttention(\n",
              "              (self): BertSelfAttention(\n",
              "                (query): Linear(in_features=768, out_features=768, bias=True)\n",
              "                (key): Linear(in_features=768, out_features=768, bias=True)\n",
              "                (value): Linear(in_features=768, out_features=768, bias=True)\n",
              "                (dropout): Dropout(p=0.1, inplace=False)\n",
              "              )\n",
              "              (output): BertSelfOutput(\n",
              "                (dense): Linear(in_features=768, out_features=768, bias=True)\n",
              "                (LayerNorm): LayerNorm((768,), eps=1e-12, elementwise_affine=True)\n",
              "                (dropout): Dropout(p=0.1, inplace=False)\n",
              "              )\n",
              "            )\n",
              "            (intermediate): BertIntermediate(\n",
              "              (dense): Linear(in_features=768, out_features=3072, bias=True)\n",
              "            )\n",
              "            (output): BertOutput(\n",
              "              (dense): Linear(in_features=3072, out_features=768, bias=True)\n",
              "              (LayerNorm): LayerNorm((768,), eps=1e-12, elementwise_affine=True)\n",
              "              (dropout): Dropout(p=0.1, inplace=False)\n",
              "            )\n",
              "          )\n",
              "        )\n",
              "      )\n",
              "    )\n",
              "    (dropout): Dropout(p=0.1, inplace=False)\n",
              "    (classifier): Linear(in_features=768, out_features=17, bias=True)\n",
              "  )\n",
              ")"
            ]
          },
          "metadata": {},
          "execution_count": 25
        }
      ]
    },
    {
      "cell_type": "code",
      "metadata": {
        "id": "IMTVi4YiWCtq"
      },
      "source": [
        "Learning_rate = 1e-05\n",
        "EPOCHS= 10 \n",
        "optimizer = torch.optim.Adam(params = model.parameters(), lr=Learning_rate) "
      ],
      "execution_count": null,
      "outputs": []
    },
    {
      "cell_type": "markdown",
      "metadata": {
        "id": "mmvfRbGlWPl9"
      },
      "source": [
        "###**Training/Evaluation of the model\n",
        "\n",
        "```\n",
        "# This is formatted as code\n",
        "```\n",
        "\n",
        "** "
      ]
    },
    {
      "cell_type": "code",
      "metadata": {
        "id": "QEPZKtiMG3-b"
      },
      "source": [
        "from seqeval.metrics import f1_score"
      ],
      "execution_count": null,
      "outputs": []
    },
    {
      "cell_type": "code",
      "metadata": {
        "id": "f5_fBPcKHJvE",
        "colab": {
          "base_uri": "https://localhost:8080/"
        },
        "outputId": "49b9d5a3-3fb3-4ff6-b46d-417d8b4e6b23"
      },
      "source": [
        "!pip install seqeval"
      ],
      "execution_count": null,
      "outputs": [
        {
          "output_type": "stream",
          "text": [
            "Requirement already satisfied: seqeval in /usr/local/lib/python3.7/dist-packages (0.0.19)\n",
            "Requirement already satisfied: numpy>=1.14.0 in /usr/local/lib/python3.7/dist-packages (from seqeval) (1.19.5)\n",
            "Requirement already satisfied: Keras>=2.2.4 in /usr/local/lib/python3.7/dist-packages (from seqeval) (2.6.0)\n"
          ],
          "name": "stdout"
        }
      ]
    },
    {
      "cell_type": "markdown",
      "metadata": {
        "id": "rpwzXFl76GlU"
      },
      "source": [
        ""
      ]
    },
    {
      "cell_type": "code",
      "metadata": {
        "id": "S0cFPsJfQsOu"
      },
      "source": [
        "def val():\n",
        "\n",
        "    model.eval()\n",
        "    predictions, true_labels = [], []\n",
        "    eval_accuracy, eval_loss, n_batch = 0.0 , 0.0, 0.0\n",
        "\n",
        "    def Accuracy(predictions, labels):\n",
        "        flat_predictions = np.argmax(predictions, axis=2).flatten()\n",
        "        flat_labels =labels.flatten()\n",
        "        return (flat_labels==flat_predictions).sum()/len(flat_labels)\n",
        "\n",
        "    with torch.no_grad():\n",
        "      data = next(iter(test_dataloader))\n",
        "      ids   =  data[\"ids\"].to(dev, dtype = torch.long)\n",
        "      mask  =  data[\"mask\"].to(dev, dtype = torch.long)\n",
        "      labels = data[\"tags\"].to(dev, dtype = torch.long)\n",
        "\n",
        "      output = model(ids, mask, labels=labels)\n",
        "      loss, logits = output[:2]\n",
        "\n",
        "      logits = logits.detach().to('cpu').numpy()\n",
        "      labels = labels.to('cpu').numpy()\n",
        "\n",
        "      predictions.extend([list(p) for p in np.argmax(logits, axis=2)])\n",
        "      true_labels.extend([list(l) for l in labels])\n",
        "\n",
        "      eval_accuracy= Accuracy(logits, labels)\n",
        "      eval_loss= loss.mean().item()\n",
        "\n",
        "      predic_tags = [[list_tag[p_i] for p_i in p ] for p in predictions]\n",
        "      true_tags = [[list_tag[l_i] for l_i in l ] for l in true_labels]\n",
        "      print(f\"validation  loss = %.3f,   validation_accuracy= %.3f\" %(eval_loss, eval_accuracy))"
      ],
      "execution_count": null,
      "outputs": []
    },
    {
      "cell_type": "code",
      "metadata": {
        "id": "Mmw55SkIWOPF"
      },
      "source": [
        "def train_val(epochs):\n",
        "\n",
        "  max_grad_norm = 1\n",
        "  for ep in range(epochs):\n",
        "      loss_sum, num_train = 0.0, 0.0 \n",
        "\n",
        "      for i, data in enumerate(train_dataloader):\n",
        "        model.train()\n",
        "\n",
        "        ids = data[\"ids\"].to(dev, dtype=torch.long)\n",
        "        mask = data[\"mask\"].to(dev, dtype = torch.long)\n",
        "        labels = data[\"tags\"].to(dev, dtype= torch.long)\n",
        "\n",
        "        loss = model(ids, mask, labels=labels)[0]  \n",
        "        loss.backward()\n",
        "\n",
        "        loss_sum+=loss.item()\n",
        "        num_train += ids.size(0)\n",
        "        #gradient clipping \n",
        "        torch.nn.utils.clip_grad_norm_(model.parameters(), max_norm=max_grad_norm)\n",
        "        # update parameters \n",
        "        xm.optimizer_step(optimizer)\n",
        "        xm.mark_step()\n",
        "        #initialize gradient \n",
        "        model.zero_grad()\n",
        "\n",
        "        if i%2000==0:\n",
        "          print(f\"epoch = {ep+1} .....\")\n",
        "          print(f\"train_loss={loss_sum/num_train}\")\n",
        "          val()\n",
        "         "
      ],
      "execution_count": null,
      "outputs": []
    },
    {
      "cell_type": "code",
      "metadata": {
        "colab": {
          "base_uri": "https://localhost:8080/"
        },
        "id": "nVXAKR0J7qaZ",
        "outputId": "97658d1d-4aa3-40dc-b082-e9f91fc30961"
      },
      "source": [
        "train_val(EPOCHS)"
      ],
      "execution_count": null,
      "outputs": [
        {
          "output_type": "stream",
          "text": [
            "epoch = 1 .....\n",
            "train_loss=0.14714175462722778\n",
            "validation  loss = 2.793,   validation_accuracy= 0.030\n",
            "validation Accuracy =0.03\n",
            "epoch = 2 .....\n",
            "train_loss=0.014681755006313324\n",
            "validation  loss = 0.257,   validation_accuracy= 0.908\n",
            "validation Accuracy =0.9085\n",
            "epoch = 3 .....\n",
            "train_loss=0.006789017468690872\n",
            "validation  loss = 0.232,   validation_accuracy= 0.902\n",
            "validation Accuracy =0.902\n",
            "epoch = 4 .....\n",
            "train_loss=0.012005510926246642\n",
            "validation  loss = 0.131,   validation_accuracy= 0.924\n",
            "validation Accuracy =0.9245\n",
            "epoch = 5 .....\n",
            "train_loss=0.004881956428289413\n",
            "validation  loss = 0.160,   validation_accuracy= 0.904\n",
            "validation Accuracy =0.9045\n",
            "epoch = 6 .....\n",
            "train_loss=0.011109494417905808\n",
            "validation  loss = 0.130,   validation_accuracy= 0.942\n",
            "validation Accuracy =0.942\n",
            "epoch = 7 .....\n",
            "train_loss=0.005349944159388542\n",
            "validation  loss = 0.246,   validation_accuracy= 0.901\n",
            "validation Accuracy =0.9015\n",
            "epoch = 8 .....\n",
            "train_loss=0.006590496003627777\n",
            "validation  loss = 0.143,   validation_accuracy= 0.905\n",
            "validation Accuracy =0.905\n",
            "epoch = 9 .....\n",
            "train_loss=0.006448065489530563\n",
            "validation  loss = 0.234,   validation_accuracy= 0.921\n",
            "validation Accuracy =0.921\n",
            "epoch = 10 .....\n",
            "train_loss=0.005022945627570152\n",
            "validation  loss = 0.113,   validation_accuracy= 0.934\n",
            "validation Accuracy =0.9345\n"
          ],
          "name": "stdout"
        }
      ]
    },
    {
      "cell_type": "code",
      "metadata": {
        "colab": {
          "base_uri": "https://localhost:8080/"
        },
        "id": "vQhcIVgAFeZh",
        "outputId": "8f658859-9589-403c-e382-bf4c85549d5a"
      },
      "source": [
        "## evaluation of the model on the validation set\n",
        "val()"
      ],
      "execution_count": null,
      "outputs": [
        {
          "output_type": "stream",
          "text": [
            "validation  loss = 0.142,   validation_accuracy= 0.934\n",
            "validation Accuracy =0.9345\n"
          ],
          "name": "stdout"
        }
      ]
    },
    {
      "cell_type": "code",
      "metadata": {
        "id": "ODnYJOb48CO5"
      },
      "source": [
        "idx2tag = {i: w for w, i in tag2idx.items()}\n",
        "\n",
        "def pred2label(pred):\n",
        "    out = []\n",
        "    for pred_i in pred:\n",
        "        out_i = []\n",
        "        for p in pred_i:\n",
        "            p_i = np.argmax(p)\n",
        "            out_i.append(idx2tag[p_i].replace(\"PAD\", \"O\"))\n",
        "        out.append(out_i)\n",
        "    return out\n",
        "    \n",
        "pred_labels = pred2label(test_pred)\n",
        "test_labels = pred2label(y_te)"
      ],
      "execution_count": null,
      "outputs": []
    },
    {
      "cell_type": "markdown",
      "metadata": {
        "id": "wx2Wgp1SOEvl"
      },
      "source": [
        "###**Prediction on a random sentence**"
      ]
    },
    {
      "cell_type": "code",
      "metadata": {
        "id": "MzhvpzeFFoI9"
      },
      "source": [
        "# test with a random data \n",
        "\n",
        "sentence= [\" I have recently watched a new movie on primevideo\"]\n",
        "data = CustomDataset(tokenizer, sentence, labels)"
      ],
      "execution_count": null,
      "outputs": []
    },
    {
      "cell_type": "code",
      "metadata": {
        "id": "Us6s1cp3SX64"
      },
      "source": [
        "random_sampler = RandomSampler(data)\n",
        "dataloader = DataLoader(data, sampler=random_sampler)"
      ],
      "execution_count": null,
      "outputs": []
    },
    {
      "cell_type": "code",
      "metadata": {
        "colab": {
          "base_uri": "https://localhost:8080/"
        },
        "id": "HDN1mt9sTX2y",
        "outputId": "8cb7a315-6d86-466b-c3ee-e977adb9058e"
      },
      "source": [
        "model.eval()\n",
        "predictions = []\n",
        "for data in dataloader:\n",
        "  input_ids = data[\"ids\"].to(dev, dtype=torch.long)\n",
        "  masks = data[\"mask\"].to(dev, dtype=torch.long)\n",
        "  labels = data[\"tags\"].to(dev, dtype=torch.long)\n",
        "  with torch.no_grad():\n",
        "    logits = model(input_ids, masks, labels)[1]\n",
        "    logits = logits.detach().to('cpu').numpy()\n",
        "    predictions.extend([list(p) for p in np.argmax(logits, axis=2)])\n",
        "\n",
        "pred = [[list_tag[p_ii] for p_ii in p] for p in predictions]\n",
        "print(pred)"
      ],
      "execution_count": null,
      "outputs": [
        {
          "output_type": "stream",
          "text": [
            "[['O', 'O', 'O', 'O', 'O', 'O', 'O', 'O', 'B-org', 'O', 'O', 'O', 'O', 'O', 'O', 'O', 'O', 'O', 'O', 'O', 'O', 'O', 'O', 'O', 'O', 'O', 'O', 'O', 'O', 'O', 'O', 'O', 'O', 'O', 'O', 'O', 'O', 'O', 'O', 'O', 'I-org', 'O', 'O', 'O', 'O', 'O', 'O', 'O', 'O', 'O', 'O', 'O', 'O', 'O', 'O', 'O', 'I-org', 'O', 'O', 'O', 'O', 'O', 'O', 'O', 'O', 'O', 'O', 'O', 'O', 'O', 'O', 'O', 'B-org', 'O', 'O', 'O', 'O', 'O', 'O', 'O', 'O', 'O', 'O', 'O', 'O', 'O', 'O', 'O', 'O', 'B-org', 'O', 'O', 'O', 'O', 'O', 'O', 'O', 'O', 'O', 'O']]\n"
          ],
          "name": "stdout"
        }
      ]
    },
    {
      "cell_type": "markdown",
      "metadata": {
        "id": "pmHg7PqLTOBJ"
      },
      "source": [
        "##**Hyperparameters tuning** "
      ]
    },
    {
      "cell_type": "markdown",
      "metadata": {
        "id": "SCszaUYJ_jez"
      },
      "source": [
        "##**Ktrain library to improve Bert Model**"
      ]
    },
    {
      "cell_type": "markdown",
      "metadata": {
        "id": "abZ29z-4_8ew"
      },
      "source": [
        "### Ktrain is a library that makes easier both the implementation and the deployment of Deep learning based models . It is inspired by the fast ai library in that,  with only a few lines of codes , it can estimate an optimal learning rate for the Deep learning model. Besides, it can also perform the preprocessing of the input data by using this library. \n",
        "\n",
        "####For further detail on the ktrain library, check out this github [https://github.com/amaiya/ktrain]()"
      ]
    },
    {
      "cell_type": "code",
      "metadata": {
        "id": "9FDoAAC6T1f8"
      },
      "source": [
        "import ktrain\n",
        "from ktrain import text, get_learner "
      ],
      "execution_count": null,
      "outputs": []
    },
    {
      "cell_type": "code",
      "metadata": {
        "id": "2EOyMhwXNz9u"
      },
      "source": [
        "class Ktrain:\n",
        "\n",
        "  def __init__(self, data):\n",
        "    self.data = data\n",
        "    self.preproc = None \n",
        "    self.train = None\n",
        "    self.val = None\n",
        "    self.model = None \n",
        "    self.learner = None \n",
        "\n",
        "  def processing(self):\n",
        "      \"\"\"\n",
        "      Load entities from pandas DataFrame\n",
        "      Args:\n",
        "        train_df(pd.DataFrame): training data\n",
        "        val_df(pdf.DataFrame): validation data\n",
        "        word_column(str): name of column containing the text\n",
        "        tag_column(str): name of column containing lael\n",
        "        sentence_column(str): name of column containing Sentence IDs\n",
        "        use_char(bool):    If True, data will be preprocessed to use character embeddings  in addition to word embeddings\n",
        "        verbose (boolean): verbosity\n",
        "\n",
        "      \"\"\"\n",
        "      self.train, self.val, self.preproc = text.entities_from_df(train_df=self.data.iloc[:100000], \n",
        "                                                                   word_column=\"word\", sentence_column='sentence_idx',\n",
        "                                                                   tag_column='tag',\n",
        "                                                                   val_pct = 0.3, \n",
        "                                                                   use_char=False, verbose=1)\n",
        "\n",
        "  def Model(self, ModelName):\n",
        "    # the name of the model \"ModelName\" could be : Bi-LSTM-CRF, BERT, DistilBERT \n",
        "      self.model = text.sequence_tagger(ModelName, self.preproc)\n",
        "      self.learner =get_learner(self.model, train_data=self.train, val_data =self.val,\n",
        "                                   batch_size = 50,eval_batch_size = 50)\n",
        "      return self.model "
      ],
      "execution_count": null,
      "outputs": []
    },
    {
      "cell_type": "markdown",
      "metadata": {
        "id": "0ir_a2xJEPVi"
      },
      "source": [
        "###**Bert model** "
      ]
    },
    {
      "cell_type": "code",
      "metadata": {
        "colab": {
          "base_uri": "https://localhost:8080/",
          "height": 1000,
          "referenced_widgets": [
            "cfd57e64907f4d389a2c11a78e4cd83f",
            "7d7af4f515f347f4bb3ed0d8fd794cec",
            "bf33a541cee94facb37b683244143e90",
            "a6fe9c69b34f477c960cac52a49a99c3",
            "5f5ec26b0a37438285a18457cacadc88",
            "603c774539214064ab183e546d3312f3",
            "3f9e6c63f4574f2e9591b943c1e7d1e5",
            "5d8435ad7afd4218af7a95957993698c",
            "2b1693c543eb49b2a811162d5de01db9",
            "7ababcb472a14c06932c07d795793aa1",
            "184ad9172e5c4e0a91a0ef59fe009b2c",
            "685c3b43abff4035bc2ced145431be7a",
            "6857423b017746b19e333b101eb820f9",
            "c6a1675d912e415ebdb1c94b417055cb",
            "4ea5e7452d7e48fea444adc6f4a27708",
            "d257a6f3d317408f91fdcb27fb2bcff6",
            "9305fae896584f56954994a69c48acc0",
            "67bdf2ba134447ea88e8ffd4dedcdac8",
            "8034ab92eb84448c8b78db8a33ba6442",
            "0224f8b3d16d4744ae367b73dc9c1957",
            "433be363b8bb4683b3004238449965c9",
            "ae0161a27d36499894fa8a4b9d14d6c6",
            "12b0a3c028d74552a94acc7e4825eb03",
            "33647e49a40a4a78853dac9d1038be34",
            "6a101731a0b94702beaba0f677a39066",
            "977f10cf5b4542c8beaeeff0eaaaf790",
            "1e024b3ac1c74ba7828707bab14930ce",
            "fa34dbd94191437982d8630fb4a98fa8",
            "86f2f306528147e38ae7c6de8768e933",
            "e77a500f01ab47abbece5506a4b8a01b",
            "a517492387e74c1e81baa262f619da90",
            "79923bb268ad4b17a487ae6f33bdeef0",
            "cc51461582ef42db88800f88628e6a62",
            "e38da460fb364eefba9f879c3e09a53c",
            "f8c0010e3b8c44c8a2a8c2c4c25e4be4",
            "cef9cea445004b5599b25ab9e42c989a",
            "d32c9c30249f488389cd48d4ec316131",
            "3719af4939c040eab1e0b23f116eb9a1",
            "b967777ba62b4966b8440671a6889409",
            "1572a7b633ed4235a11edb857a811a92",
            "04dcf88408b4454eb112baf06fbd6764",
            "42c625c2938846db8bdd2f28a31fc48c",
            "2d9c86dc30e14023ac16b008f281c7ce",
            "11f6e500576b4d63a8693f1b0ebdeee4"
          ]
        },
        "id": "Pd9o7_glRDtV",
        "outputId": "df36b40b-cf90-43e6-e9d2-fd6ef75e66b4"
      },
      "source": [
        "if __name__=='__main__': \n",
        "  Ktrain = Ktrain(data=df)\n",
        "  print(\"******************** preprocessing step ******************************\")\n",
        "  print(\"                                                                      \")\n",
        "\n",
        "  print(\"                                                                      \")\n",
        "\n",
        "  Ktrain.processing()\n",
        "  print(\"******************* Model Building ***********************************\")\n",
        "\n",
        "  model = Ktrain.Model('bilstm-bert')\n",
        "\n",
        "  print(\"                                                                      \")\n",
        "  print(\"                                                                      \")\n",
        "  print(\"*********************** Model training and Evaluation ******************\")\n",
        "  print(\"                                                                      \")\n",
        "  print(\"                                                                      \")\n",
        "  learner = Ktrain.learner\n",
        "  learner.fit(1e-03, 10)\n",
        "\n",
        "  print(\"                                                                      \")\n",
        "\n",
        "  print(\"                                                                      \")\n",
        "  print(\"******************** Model Summary *************************************\")\n",
        "  learner.validate()\n",
        "\n",
        "  print(\"                                                                      \")\n",
        "  print(\"                                                                      \")\n",
        "  print(\"(****************** Model view top losses *****************************\")\n",
        "\n",
        "  print(\"                                                                      \")\n",
        "  print(\"                                                                      \")\n",
        "  learner.view_top_losses(n=1)\n",
        "  print(\"                                                                      \")\n",
        "  print(\"                                                                      \")\n",
        "  print(\"****************** Definition of a Predictor ************************\")\n",
        "  predictor = ktrain.get_predictor(learner.model, Ktrain.preproc)\n",
        "\n",
        "  print(\"                                                                      \")\n",
        "  print(\"                                                                      \")\n",
        "  print(\"****************** Save the Predictor ************************\")\n",
        "  predictor.save('/content/bert')\n",
        "\n",
        "  \n",
        "\n",
        "\n",
        "\n"
      ],
      "execution_count": null,
      "outputs": [
        {
          "output_type": "stream",
          "text": [
            "******************** preprocessing step ******************************\n",
            "                                                                      \n",
            "                                                                      \n",
            "Number of sentences:  4544\n",
            "Number of words in the dataset:  10922\n",
            "Tags: ['B-org', 'I-gpe', 'B-per', 'B-art', 'I-tim', 'B-tim', 'I-nat', 'I-geo', 'B-gpe', 'B-geo', 'I-art', 'B-eve', 'I-per', 'B-nat', 'I-eve', 'I-org', 'O']\n",
            "Number of Labels:  17\n",
            "Longest sentence: 70 words\n",
            "******************* Model Building ***********************************\n",
            "Embedding schemes employed (combined with concatenation):\n",
            "\tword embeddings initialized randomly\n",
            "\tBERT embeddings with bert-base-multilingual-cased\n",
            "\n"
          ],
          "name": "stdout"
        },
        {
          "output_type": "display_data",
          "data": {
            "application/vnd.jupyter.widget-view+json": {
              "model_id": "cfd57e64907f4d389a2c11a78e4cd83f",
              "version_minor": 0,
              "version_major": 2
            },
            "text/plain": [
              "Downloading:   0%|          | 0.00/625 [00:00<?, ?B/s]"
            ]
          },
          "metadata": {}
        },
        {
          "output_type": "display_data",
          "data": {
            "application/vnd.jupyter.widget-view+json": {
              "model_id": "685c3b43abff4035bc2ced145431be7a",
              "version_minor": 0,
              "version_major": 2
            },
            "text/plain": [
              "Downloading:   0%|          | 0.00/996k [00:00<?, ?B/s]"
            ]
          },
          "metadata": {}
        },
        {
          "output_type": "display_data",
          "data": {
            "application/vnd.jupyter.widget-view+json": {
              "model_id": "12b0a3c028d74552a94acc7e4825eb03",
              "version_minor": 0,
              "version_major": 2
            },
            "text/plain": [
              "Downloading:   0%|          | 0.00/1.96M [00:00<?, ?B/s]"
            ]
          },
          "metadata": {}
        },
        {
          "output_type": "display_data",
          "data": {
            "application/vnd.jupyter.widget-view+json": {
              "model_id": "e38da460fb364eefba9f879c3e09a53c",
              "version_minor": 0,
              "version_major": 2
            },
            "text/plain": [
              "Downloading:   0%|          | 0.00/1.08G [00:00<?, ?B/s]"
            ]
          },
          "metadata": {}
        },
        {
          "output_type": "stream",
          "text": [
            "                                                                      \n",
            "                                                                      \n",
            "*********************** Model training and Evaluation ******************\n",
            "                                                                      \n",
            "                                                                      \n",
            "preparing training data ...done.\n",
            "preparing validation data ...done.\n",
            "Epoch 1/10\n",
            "64/64 [==============================] - 950s 15s/step - loss: 0.3640 - val_loss: 0.1837\n",
            "Epoch 2/10\n",
            "64/64 [==============================] - 923s 14s/step - loss: 0.1554 - val_loss: 0.1158\n",
            "Epoch 3/10\n",
            "64/64 [==============================] - 925s 15s/step - loss: 0.1105 - val_loss: 0.1019\n",
            "Epoch 4/10\n",
            "64/64 [==============================] - 925s 14s/step - loss: 0.0936 - val_loss: 0.0992\n",
            "Epoch 5/10\n",
            "64/64 [==============================] - 923s 14s/step - loss: 0.0836 - val_loss: 0.0926\n",
            "Epoch 6/10\n",
            "64/64 [==============================] - 920s 14s/step - loss: 0.0746 - val_loss: 0.0905\n",
            "Epoch 7/10\n",
            "64/64 [==============================] - 916s 14s/step - loss: 0.0663 - val_loss: 0.0895\n",
            "Epoch 8/10\n",
            "64/64 [==============================] - 915s 14s/step - loss: 0.0608 - val_loss: 0.0901\n",
            "Epoch 9/10\n",
            "64/64 [==============================] - 923s 14s/step - loss: 0.0550 - val_loss: 0.0907\n",
            "Epoch 10/10\n",
            "64/64 [==============================] - 910s 14s/step - loss: 0.0497 - val_loss: 0.0889\n",
            "                                                                      \n",
            "                                                                      \n",
            "******************** Model Summary *************************************\n",
            "   F1:  74.08\n",
            "              precision    recall  f1-score   support\n",
            "\n",
            "         art       0.00      0.00      0.00        27\n",
            "         eve       0.25      0.27      0.26        11\n",
            "         geo       0.72      0.86      0.79      1020\n",
            "         gpe       0.91      0.77      0.83       489\n",
            "         nat       0.00      0.00      0.00         8\n",
            "         org       0.54      0.58      0.56       568\n",
            "         per       0.71      0.79      0.75       481\n",
            "         tim       0.79      0.80      0.79       528\n",
            "\n",
            "   micro avg       0.72      0.76      0.74      3132\n",
            "   macro avg       0.49      0.51      0.50      3132\n",
            "weighted avg       0.72      0.76      0.74      3132\n",
            "\n",
            "                                                                      \n",
            "                                                                      \n",
            "(****************** Model view top losses *****************************\n",
            "                                                                      \n",
            "                                                                      \n",
            "total incorrect: 13\n",
            "Word            True : (Pred)\n",
            "==============================\n",
            "The            :O     (O)\n",
            "Kurdish        :O     (O)\n",
            "regional       :O     (O)\n",
            "government     :O     (O)\n",
            "said           :O     (O)\n",
            "the            :O     (O)\n",
            "new            :O     (O)\n",
            "contracts      :O     (O)\n",
            "are            :O     (O)\n",
            "for            :O     (O)\n",
            "the            :O     (O)\n",
            "Mala           :B-geo (B-per)\n",
            "Omar           :I-geo (I-geo)\n",
            "and            :O     (O)\n",
            "Shorish        :B-geo (B-geo)\n",
            "Blocks         :I-geo (O)\n",
            ",              :O     (O)\n",
            "the            :B-geo (O)\n",
            "Akre           :I-geo (B-org)\n",
            "-              :I-geo (I-org)\n",
            "Bijeel         :I-geo (I-org)\n",
            "Block          :I-geo (O)\n",
            ",              :O     (O)\n",
            "the            :B-geo (O)\n",
            "Shaikan        :I-geo (B-geo)\n",
            "Block          :I-geo (O)\n",
            ",              :O     (O)\n",
            "the            :B-geo (O)\n",
            "Rovi           :I-geo (B-geo)\n",
            "and            :O     (O)\n",
            "Sarta          :B-geo (B-geo)\n",
            "Blocks         :I-geo (O)\n",
            ",              :O     (O)\n",
            "and            :O     (O)\n",
            "a              :O     (O)\n",
            "block          :O     (O)\n",
            "in             :O     (O)\n",
            "Dihok          :B-geo (B-geo)\n",
            "province       :O     (O)\n",
            ".              :O     (O)\n",
            "\n",
            "\n",
            "                                                                      \n",
            "                                                                      \n",
            "****************** Definition of a Predictor ************************\n",
            "                                                                      \n",
            "                                                                      \n",
            "****************** Save the Predictor ************************\n"
          ],
          "name": "stdout"
        }
      ]
    },
    {
      "cell_type": "markdown",
      "metadata": {
        "id": "ykKjK2jI8aLb"
      },
      "source": [
        "##**BILSTM**"
      ]
    },
    {
      "cell_type": "code",
      "metadata": {
        "id": "L9mjjvL_8VnJ",
        "colab": {
          "base_uri": "https://localhost:8080/"
        },
        "outputId": "3e4d606c-0b50-4fa0-df80-2c3e23070ef5"
      },
      "source": [
        "\n",
        "\n",
        "\n",
        "\n",
        "if __name__=='__main__': \n",
        "  Ktrain = Ktrain(data=df)\n",
        "  print(\"******************** preprocessing step ******************************\")\n",
        "  print(\"                                                                      \")\n",
        "\n",
        "  print(\"                                                                      \")\n",
        "\n",
        "  Ktrain.processing()\n",
        "  print(\"******************* Model Building ***********************************\")\n",
        "\n",
        "  model = Ktrain.Model('bilstm-crf')\n",
        "\n",
        "  print(\"                                                                      \")\n",
        "  print(\"                                                                      \")\n",
        "  print(\"*********************** Model training and Evaluation ******************\")\n",
        "  print(\"                                                                      \")\n",
        "  print(\"                                                                      \")\n",
        "  learner = Ktrain.learner\n",
        "  learner.fit(1e-03, 50)\n",
        "\n",
        "  print(\"                                                                      \")\n",
        "\n",
        "  print(\"                                                                      \")\n",
        "  print(\"******************** Model Summary *************************************\")\n",
        "  learner.validate()\n",
        "\n",
        "  print(\"                                                                      \")\n",
        "  print(\"                                                                      \")\n",
        "  print(\"(****************** Model view top losses *****************************\")\n",
        "\n",
        "  print(\"                                                                      \")\n",
        "  print(\"                                                                      \")\n",
        "  learner.view_top_losses(n=1)\n",
        "  print(\"                                                                      \")\n",
        "  print(\"                                                                      \")\n",
        "  print(\"****************** Definition of a Predictor ************************\")\n",
        "  predictor = ktrain.get_predictor(learner.model, Ktrain.preproc)\n",
        "\n",
        "  print(\"                                                                      \")\n",
        "  print(\"                                                                      \")\n",
        "  print(\"****************** Save the Predictor ************************\")\n",
        "  predictor.save('/content/bilstm')"
      ],
      "execution_count": null,
      "outputs": [
        {
          "output_type": "stream",
          "text": [
            "******************** preprocessing step ******************************\n",
            "                                                                      \n",
            "                                                                      \n",
            "Number of sentences:  4544\n",
            "Number of words in the dataset:  10922\n",
            "Tags: ['B-org', 'I-gpe', 'B-per', 'B-art', 'I-tim', 'B-tim', 'I-nat', 'I-geo', 'B-gpe', 'B-geo', 'I-art', 'B-eve', 'I-per', 'B-nat', 'I-eve', 'I-org', 'O']\n",
            "Number of Labels:  17\n",
            "Longest sentence: 70 words\n",
            "******************* Model Building ***********************************\n",
            "\n",
            "IMPORTANT NOTE: ktrain uses the CRF module from keras_contrib, which is not yet\n",
            "fully compatible with TensorFlow 2. You can still use the BiLSTM-CRF model\n",
            "in ktrain for sequence tagging with TensorFlow 2, but you must add the\n",
            "following to the top of your script or notebook BEFORE you import ktrain:\n",
            "\n",
            "import os\n",
            "os.environ['DISABLE_V2_BEHAVIOR'] = '1'\n",
            "\n",
            "For this run, a vanilla BiLSTM model (with no CRF layer) will be used.\n",
            "\n",
            "embedding schemes employed:\n",
            "\tword embeddings initialized randomly\n",
            "\n"
          ],
          "name": "stdout"
        },
        {
          "output_type": "stream",
          "text": [
            "/usr/local/lib/python3.7/dist-packages/ktrain/text/ner/models.py:108: UserWarning: Falling back to BiLSTM (no CRF) because DISABLE_V2_BEHAVIOR=False\n",
            "  warnings.warn('Falling back to BiLSTM (no CRF) because DISABLE_V2_BEHAVIOR=False')\n"
          ],
          "name": "stderr"
        },
        {
          "output_type": "stream",
          "text": [
            "                                                                      \n",
            "                                                                      \n",
            "*********************** Model training and Evaluation ******************\n",
            "                                                                      \n",
            "                                                                      \n",
            "preparing training data ...done.\n",
            "preparing validation data ...done.\n",
            "Epoch 1/20\n",
            "64/64 [==============================] - 20s 198ms/step - loss: 0.6109 - val_loss: 0.3791\n",
            "Epoch 2/20\n",
            "64/64 [==============================] - 10s 159ms/step - loss: 0.3232 - val_loss: 0.2619\n",
            "Epoch 3/20\n",
            "64/64 [==============================] - 10s 159ms/step - loss: 0.2320 - val_loss: 0.2212\n",
            "Epoch 4/20\n",
            "64/64 [==============================] - 10s 157ms/step - loss: 0.1964 - val_loss: 0.1966\n",
            "Epoch 5/20\n",
            "64/64 [==============================] - 10s 155ms/step - loss: 0.1650 - val_loss: 0.1745\n",
            "Epoch 6/20\n",
            "64/64 [==============================] - 10s 158ms/step - loss: 0.1383 - val_loss: 0.1560\n",
            "Epoch 7/20\n",
            "64/64 [==============================] - 10s 157ms/step - loss: 0.1152 - val_loss: 0.1394\n",
            "Epoch 8/20\n",
            "64/64 [==============================] - 10s 160ms/step - loss: 0.0971 - val_loss: 0.1319\n",
            "Epoch 9/20\n",
            "64/64 [==============================] - 10s 158ms/step - loss: 0.0813 - val_loss: 0.1274\n",
            "Epoch 10/20\n",
            "64/64 [==============================] - 10s 157ms/step - loss: 0.0689 - val_loss: 0.1273\n",
            "Epoch 11/20\n",
            "64/64 [==============================] - 10s 155ms/step - loss: 0.0602 - val_loss: 0.1278\n",
            "Epoch 12/20\n",
            "64/64 [==============================] - 10s 155ms/step - loss: 0.0526 - val_loss: 0.1424\n",
            "Epoch 13/20\n",
            "64/64 [==============================] - 10s 154ms/step - loss: 0.0461 - val_loss: 0.1386\n",
            "Epoch 14/20\n",
            "64/64 [==============================] - 10s 154ms/step - loss: 0.0422 - val_loss: 0.1385\n",
            "Epoch 15/20\n",
            "64/64 [==============================] - 10s 155ms/step - loss: 0.0370 - val_loss: 0.1456\n",
            "Epoch 16/20\n",
            "64/64 [==============================] - 10s 154ms/step - loss: 0.0334 - val_loss: 0.1488\n",
            "Epoch 17/20\n",
            "64/64 [==============================] - 10s 154ms/step - loss: 0.0308 - val_loss: 0.1548\n",
            "Epoch 18/20\n",
            "64/64 [==============================] - 10s 155ms/step - loss: 0.0275 - val_loss: 0.1606\n",
            "Epoch 19/20\n",
            "64/64 [==============================] - 10s 155ms/step - loss: 0.0254 - val_loss: 0.1560\n",
            "Epoch 20/20\n",
            "64/64 [==============================] - 10s 154ms/step - loss: 0.0240 - val_loss: 0.1783\n",
            "                                                                      \n",
            "                                                                      \n",
            "******************** Model Summary *************************************\n",
            "   F1:  65.76\n",
            "              precision    recall  f1-score   support\n",
            "\n",
            "         art       0.00      0.00      0.00        20\n",
            "         eve       0.00      0.00      0.00         8\n",
            "         geo       0.70      0.74      0.72       989\n",
            "         gpe       0.86      0.81      0.83       502\n",
            "         nat       0.00      0.00      0.00         8\n",
            "         org       0.40      0.41      0.40       553\n",
            "         per       0.62      0.53      0.57       498\n",
            "         tim       0.79      0.72      0.75       549\n",
            "\n",
            "   micro avg       0.67      0.65      0.66      3127\n",
            "   macro avg       0.42      0.40      0.41      3127\n",
            "weighted avg       0.66      0.65      0.65      3127\n",
            "\n",
            "                                                                      \n",
            "                                                                      \n",
            "(****************** Model view top losses *****************************\n",
            "                                                                      \n",
            "                                                                      \n",
            "total incorrect: 12\n",
            "Word            True : (Pred)\n",
            "==============================\n",
            "The            :O     (O)\n",
            "reporters      :O     (O)\n",
            ",              :O     (O)\n",
            "Aung           :B-org (B-geo)\n",
            "Shwe           :I-org (I-per)\n",
            "Oo             :I-org (O)\n",
            "and            :O     (O)\n",
            "his            :O     (O)\n",
            "daughter       :O     (O)\n",
            ",              :O     (O)\n",
            "Daw            :B-per (O)\n",
            "Sint           :I-per (O)\n",
            "Sint           :I-per (O)\n",
            "Aung           :I-per (O)\n",
            ",              :O     (O)\n",
            "both           :O     (O)\n",
            "work           :O     (O)\n",
            "for            :O     (O)\n",
            "Nippon         :B-org (O)\n",
            "News           :I-org (O)\n",
            "Network        :I-org (O)\n",
            "'s             :I-org (O)\n",
            "Bangkok        :I-org (B-gpe)\n",
            "bureau         :O     (O)\n",
            ".              :O     (O)\n",
            "\n",
            "\n",
            "                                                                      \n",
            "                                                                      \n",
            "****************** Definition of a Predictor ************************\n",
            "                                                                      \n",
            "                                                                      \n",
            "****************** Save the Predictor ************************\n"
          ],
          "name": "stdout"
        }
      ]
    },
    {
      "cell_type": "markdown",
      "metadata": {
        "id": "kGp2XGZlVEDM"
      },
      "source": [
        "### **Model Comparison**"
      ]
    },
    {
      "cell_type": "code",
      "metadata": {
        "id": "dMIQYLePIzmw"
      },
      "source": [
        "import matplotlib.pyplot as plt\n",
        "import seaborn as sns"
      ],
      "execution_count": null,
      "outputs": []
    },
    {
      "cell_type": "code",
      "metadata": {
        "id": "eM-zgusdXL7O"
      },
      "source": [
        "Bert_val_accuracy=[0.908, 0.902, 0.924, 0.904, 0.942, 0.901, 0.905, 0.921, 0.934]\n",
        "Bert_kaggle = [0.9267, 0.939435, 0.94627]\n",
        "\n",
        "Model = {\"my_Bert\":[0.908, 0.902, 0.924, 0.904, 0.942, 0.901, 0.905, 0.921, 0.934], \"Bert_kaggle\": [0.9267, 0.939435, 0.94627],\\\n",
        "         \"LSTM\":[0.9681, 0.9681,0.9682,0.9683,0.9684,0.9685,0.9686,0.9687,0.9688, 0.9689],\"Simple-RNN\":[0.975, 0.980, 0.987, 0.988, 0.989],\\\n",
        "         \"Bi-LSTm-CRF\": [0.9276, 0.9789, 0.9872, 0.9906, 0.9919]}"
      ],
      "execution_count": null,
      "outputs": []
    },
    {
      "cell_type": "code",
      "metadata": {
        "colab": {
          "base_uri": "https://localhost:8080/",
          "height": 335
        },
        "id": "FUjnooOpXG9Z",
        "outputId": "f5f6234f-408d-4cc7-afaa-ce59256a7077"
      },
      "source": [
        "plt.figure(figsize=(8,5))\n",
        "sns.boxplot(data=Model[\"my_Bert\"])\n",
        "plt.ylim(ymin=0.99*min(Bert_val_accuracy) , ymax = 1.01*max(Bert_val_accuracy))\n",
        "plt.xlabel(\"my_Bert\")\n",
        "plt.show()"
      ],
      "execution_count": null,
      "outputs": [
        {
          "output_type": "display_data",
          "data": {
            "image/png": "[encoded data removed]",
            "text/plain": [
              "<Figure size 576x360 with 1 Axes>"
            ]
          },
          "metadata": {
            "needs_background": "light"
          }
        }
      ]
    },
    {
      "cell_type": "code",
      "metadata": {
        "colab": {
          "base_uri": "https://localhost:8080/",
          "height": 335
        },
        "id": "BAUWwrhdj6bI",
        "outputId": "a0fdd3f3-c6a2-407c-d942-1f1ae6542787"
      },
      "source": [
        "plt.figure(figsize=(8,5))\n",
        "sns.boxplot(data=Model[\"Bert_kaggle\"], color=\"red\")\n",
        "plt.ylim(ymin=0.99*min(Model[\"Bert_kaggle\"]) , ymax = 1.01*max(Model[\"Bert_kaggle\"]))\n",
        "plt.xlabel(\"Bert_kaggle\")\n",
        "plt.show()"
      ],
      "execution_count": null,
      "outputs": [
        {
          "output_type": "display_data",
          "data": {
            "image/png": "[encoded data removed]",
            "text/plain": [
              "<Figure size 576x360 with 1 Axes>"
            ]
          },
          "metadata": {
            "needs_background": "light"
          }
        }
      ]
    },
    {
      "cell_type": "code",
      "metadata": {
        "colab": {
          "base_uri": "https://localhost:8080/",
          "height": 333
        },
        "id": "f7hnbDhWkccp",
        "outputId": "90bae46b-f219-4fac-a348-9af9e0bce0a1"
      },
      "source": [
        "plt.figure(figsize=(8,5))\n",
        "sns.boxplot(data=Model[\"Simple-RNN\"], color=\"purple\")\n",
        "plt.ylim(ymin=0.99*min(Model[\"Simple-RNN\"]) , ymax = 1.01*max(Model[\"Simple-RNN\"]))\n",
        "plt.xlabel(\"Simple-RNN\")\n",
        "plt.show()"
      ],
      "execution_count": null,
      "outputs": [
        {
          "output_type": "display_data",
          "data": {
            "image/png": "[encoded data removed]",
            "text/plain": [
              "<Figure size 576x360 with 1 Axes>"
            ]
          },
          "metadata": {
            "needs_background": "light"
          }
        }
      ]
    },
    {
      "cell_type": "code",
      "metadata": {
        "colab": {
          "base_uri": "https://localhost:8080/",
          "height": 333
        },
        "id": "oRIY-WxFlEs4",
        "outputId": "87d91243-ebab-4482-e827-a6bd3ed1a43e"
      },
      "source": [
        "plt.figure(figsize=(8,5))\n",
        "sns.boxplot(data=Model[\"Bi-LSTm-CRF\"], color=\"#DDA0DD\")\n",
        "plt.ylim(ymin=0.99*min(Model[\"Bi-LSTm-CRF\"]) , ymax = 1.01*max(Model[\"Bi-LSTm-CRF\"]))\n",
        "plt.xlabel(\"Bi-LSTm-CRF\")\n",
        "plt.show()"
      ],
      "execution_count": null,
      "outputs": [
        {
          "output_type": "display_data",
          "data": {
            "image/png": "[encoded data removed]",
            "text/plain": [
              "<Figure size 576x360 with 1 Axes>"
            ]
          },
          "metadata": {
            "needs_background": "light"
          }
        }
      ]
    },
    {
      "cell_type": "markdown",
      "metadata": {
        "id": "RR0qdbQ3oekk"
      },
      "source": [
        "### **F-Score** comparison"
      ]
    }
  ]
}