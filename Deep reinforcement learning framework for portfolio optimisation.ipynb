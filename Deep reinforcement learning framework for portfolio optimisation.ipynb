{
 "cells": [
  {
   "cell_type": "markdown",
   "metadata": {},
   "source": [
    "### Poleniex Market Data processing "
   ]
  },
  {
   "cell_type": "code",
   "execution_count": 2,
   "metadata": {},
   "outputs": [],
   "source": [
    "import os\n",
    "import pathlib\n",
    "from time import strptime\n",
    "from datetime import datetime\n",
    "import matplotlib.pyplot as plt\n",
    "import matplotlib.image as mpimg\n",
    "\n",
    "import numpy as np\n",
    "import pandas as pd\n",
    "import seaborn as sns\n",
    "import PIL\n",
    "import pickle\n",
    "from time import strftime"
   ]
  },
  {
   "cell_type": "code",
   "execution_count": null,
   "metadata": {},
   "outputs": [],
   "source": [
    "# directory = os.gtwcd()+'individual_stocks_5yr/'\n",
    "def Data_processing(directory): \n",
    "    #list of all file in the directory    \n",
    "    list_file_directory = os.listdir(directory)\n",
    "    for file in list_file_directory:\n",
    "        if file[0]=='.': list_file-directory.remove(file)\n",
    "    stock_name = [file.split('_')[0] for file in list_file_directory]\n",
    "    stocks = [file for file in list_file_directory]\n",
    "    # considere data of >= 17000  \n",
    "    kept_stocks = ['ETCBTC.csv', 'ETHBTC.csv', 'DOGEBTC.csv', 'ETHUSDT.csv', 'BTCUSDT.csv', \n",
    "              'XRPBTC.csv', 'DASHBTC.csv', 'XMRBTC.csv', 'LTCBTC.csv', 'ETCETH.csv]\n",
    "    \n",
    "                   "
   ]
  },
  {
   "cell_type": "markdown",
   "metadata": {},
   "source": [
    "### Stock Market Data processing "
   ]
  },
  {
   "cell_type": "code",
   "execution_count": null,
   "metadata": {},
   "outputs": [],
   "source": [
    "# directory = os.gtwcd()+'individual_stocks_5yr/'\n",
    "def Data_processing(directory): \n",
    "    #list of all file in the directory    \n",
    "    list_file_directory = os.listdir(directory)\n",
    "    for file in list_file_directory:\n",
    "        if file[0]=='.': list_file-directory.remove(file)\n",
    "    stock_name = [file.split('_')[0] for file in list_file_directory]\n",
    "    stocks = [file for file in list_file_directory]\n",
    "    # considere data of >= 17000  \n",
    "    kept_stocks = ['ETCBTC.csv', 'ETHBTC.csv', 'DOGEBTC.csv', 'ETHUSDT.csv', 'BTCUSDT.csv', \n",
    "              'XRPBTC.csv', 'DASHBTC.csv', 'XMRBTC.csv', 'LTCBTC.csv', 'ETCETH.csv]\n",
    "    \n",
    "                   \n",
    "                   \n",
    "    "
   ]
  }
 ],
 "metadata": {
  "kernelspec": {
   "display_name": "Python 3",
   "language": "python",
   "name": "python3"
  },
  "language_info": {
   "codemirror_mode": {
    "name": "ipython",
    "version": 3
   },
   "file_extension": ".py",
   "mimetype": "text/x-python",
   "name": "python",
   "nbconvert_exporter": "python",
   "pygments_lexer": "ipython3",
   "version": "3.8.3"
  }
 },
 "nbformat": 4,
 "nbformat_minor": 4
}
